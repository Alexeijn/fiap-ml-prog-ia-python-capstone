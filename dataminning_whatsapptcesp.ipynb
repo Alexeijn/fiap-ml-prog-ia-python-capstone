{
  "nbformat": 4,
  "nbformat_minor": 0,
  "metadata": {
    "colab": {
      "name": "dataminning-whatsapptcesp.ipynb",
      "provenance": [],
      "collapsed_sections": [],
      "authorship_tag": "ABX9TyMjVRGliWDJ2NEBu+t01hG9",
      "include_colab_link": true
    },
    "kernelspec": {
      "name": "python3",
      "display_name": "Python 3"
    }
  },
  "cells": [
    {
      "cell_type": "markdown",
      "metadata": {
        "id": "view-in-github",
        "colab_type": "text"
      },
      "source": [
        "<a href=\"https://colab.research.google.com/github/Alexeijn/fiap-ml-prog-ia-python-capstone/blob/master/dataminning_whatsapptcesp.ipynb\" target=\"_parent\"><img src=\"https://colab.research.google.com/assets/colab-badge.svg\" alt=\"Open In Colab\"/></a>"
      ]
    },
    {
      "cell_type": "code",
      "metadata": {
        "id": "HRsQQ6qTYQj-",
        "colab_type": "code",
        "colab": {}
      },
      "source": [
        "import pandas as pd\n",
        "import numpy as np\n",
        "from pathlib import Path"
      ],
      "execution_count": 0,
      "outputs": []
    },
    {
      "cell_type": "code",
      "metadata": {
        "id": "LeNlDY2TYYpG",
        "colab_type": "code",
        "colab": {}
      },
      "source": [
        "%config IPCompleter.greedy=True"
      ],
      "execution_count": 0,
      "outputs": []
    },
    {
      "cell_type": "code",
      "metadata": {
        "id": "9OGm5CbYjIEC",
        "colab_type": "code",
        "colab": {
          "base_uri": "https://localhost:8080/",
          "height": 1000
        },
        "outputId": "af50ba56-d3f5-4fc0-9136-08039d5bce98"
      },
      "source": [
        "!pip install spacy\n",
        "!python -m spacy download en\n",
        "!python -m spacy download pt"
      ],
      "execution_count": 21,
      "outputs": [
        {
          "output_type": "stream",
          "text": [
            "Requirement already satisfied: spacy in /usr/local/lib/python3.6/dist-packages (2.2.4)\n",
            "Requirement already satisfied: murmurhash<1.1.0,>=0.28.0 in /usr/local/lib/python3.6/dist-packages (from spacy) (1.0.2)\n",
            "Requirement already satisfied: cymem<2.1.0,>=2.0.2 in /usr/local/lib/python3.6/dist-packages (from spacy) (2.0.3)\n",
            "Requirement already satisfied: catalogue<1.1.0,>=0.0.7 in /usr/local/lib/python3.6/dist-packages (from spacy) (1.0.0)\n",
            "Requirement already satisfied: setuptools in /usr/local/lib/python3.6/dist-packages (from spacy) (46.0.0)\n",
            "Requirement already satisfied: numpy>=1.15.0 in /usr/local/lib/python3.6/dist-packages (from spacy) (1.18.2)\n",
            "Requirement already satisfied: preshed<3.1.0,>=3.0.2 in /usr/local/lib/python3.6/dist-packages (from spacy) (3.0.2)\n",
            "Requirement already satisfied: requests<3.0.0,>=2.13.0 in /usr/local/lib/python3.6/dist-packages (from spacy) (2.21.0)\n",
            "Requirement already satisfied: srsly<1.1.0,>=1.0.2 in /usr/local/lib/python3.6/dist-packages (from spacy) (1.0.2)\n",
            "Requirement already satisfied: thinc==7.4.0 in /usr/local/lib/python3.6/dist-packages (from spacy) (7.4.0)\n",
            "Requirement already satisfied: blis<0.5.0,>=0.4.0 in /usr/local/lib/python3.6/dist-packages (from spacy) (0.4.1)\n",
            "Requirement already satisfied: wasabi<1.1.0,>=0.4.0 in /usr/local/lib/python3.6/dist-packages (from spacy) (0.6.0)\n",
            "Requirement already satisfied: plac<1.2.0,>=0.9.6 in /usr/local/lib/python3.6/dist-packages (from spacy) (1.1.3)\n",
            "Requirement already satisfied: tqdm<5.0.0,>=4.38.0 in /usr/local/lib/python3.6/dist-packages (from spacy) (4.38.0)\n",
            "Requirement already satisfied: importlib-metadata>=0.20; python_version < \"3.8\" in /usr/local/lib/python3.6/dist-packages (from catalogue<1.1.0,>=0.0.7->spacy) (1.6.0)\n",
            "Requirement already satisfied: urllib3<1.25,>=1.21.1 in /usr/local/lib/python3.6/dist-packages (from requests<3.0.0,>=2.13.0->spacy) (1.24.3)\n",
            "Requirement already satisfied: idna<2.9,>=2.5 in /usr/local/lib/python3.6/dist-packages (from requests<3.0.0,>=2.13.0->spacy) (2.8)\n",
            "Requirement already satisfied: certifi>=2017.4.17 in /usr/local/lib/python3.6/dist-packages (from requests<3.0.0,>=2.13.0->spacy) (2019.11.28)\n",
            "Requirement already satisfied: chardet<3.1.0,>=3.0.2 in /usr/local/lib/python3.6/dist-packages (from requests<3.0.0,>=2.13.0->spacy) (3.0.4)\n",
            "Requirement already satisfied: zipp>=0.5 in /usr/local/lib/python3.6/dist-packages (from importlib-metadata>=0.20; python_version < \"3.8\"->catalogue<1.1.0,>=0.0.7->spacy) (3.1.0)\n",
            "Requirement already satisfied: en_core_web_sm==2.2.5 from https://github.com/explosion/spacy-models/releases/download/en_core_web_sm-2.2.5/en_core_web_sm-2.2.5.tar.gz#egg=en_core_web_sm==2.2.5 in /usr/local/lib/python3.6/dist-packages (2.2.5)\n",
            "Requirement already satisfied: spacy>=2.2.2 in /usr/local/lib/python3.6/dist-packages (from en_core_web_sm==2.2.5) (2.2.4)\n",
            "Requirement already satisfied: srsly<1.1.0,>=1.0.2 in /usr/local/lib/python3.6/dist-packages (from spacy>=2.2.2->en_core_web_sm==2.2.5) (1.0.2)\n",
            "Requirement already satisfied: numpy>=1.15.0 in /usr/local/lib/python3.6/dist-packages (from spacy>=2.2.2->en_core_web_sm==2.2.5) (1.18.2)\n",
            "Requirement already satisfied: catalogue<1.1.0,>=0.0.7 in /usr/local/lib/python3.6/dist-packages (from spacy>=2.2.2->en_core_web_sm==2.2.5) (1.0.0)\n",
            "Requirement already satisfied: requests<3.0.0,>=2.13.0 in /usr/local/lib/python3.6/dist-packages (from spacy>=2.2.2->en_core_web_sm==2.2.5) (2.21.0)\n",
            "Requirement already satisfied: plac<1.2.0,>=0.9.6 in /usr/local/lib/python3.6/dist-packages (from spacy>=2.2.2->en_core_web_sm==2.2.5) (1.1.3)\n",
            "Requirement already satisfied: wasabi<1.1.0,>=0.4.0 in /usr/local/lib/python3.6/dist-packages (from spacy>=2.2.2->en_core_web_sm==2.2.5) (0.6.0)\n",
            "Requirement already satisfied: tqdm<5.0.0,>=4.38.0 in /usr/local/lib/python3.6/dist-packages (from spacy>=2.2.2->en_core_web_sm==2.2.5) (4.38.0)\n",
            "Requirement already satisfied: setuptools in /usr/local/lib/python3.6/dist-packages (from spacy>=2.2.2->en_core_web_sm==2.2.5) (46.0.0)\n",
            "Requirement already satisfied: thinc==7.4.0 in /usr/local/lib/python3.6/dist-packages (from spacy>=2.2.2->en_core_web_sm==2.2.5) (7.4.0)\n",
            "Requirement already satisfied: cymem<2.1.0,>=2.0.2 in /usr/local/lib/python3.6/dist-packages (from spacy>=2.2.2->en_core_web_sm==2.2.5) (2.0.3)\n",
            "Requirement already satisfied: blis<0.5.0,>=0.4.0 in /usr/local/lib/python3.6/dist-packages (from spacy>=2.2.2->en_core_web_sm==2.2.5) (0.4.1)\n",
            "Requirement already satisfied: murmurhash<1.1.0,>=0.28.0 in /usr/local/lib/python3.6/dist-packages (from spacy>=2.2.2->en_core_web_sm==2.2.5) (1.0.2)\n",
            "Requirement already satisfied: preshed<3.1.0,>=3.0.2 in /usr/local/lib/python3.6/dist-packages (from spacy>=2.2.2->en_core_web_sm==2.2.5) (3.0.2)\n",
            "Requirement already satisfied: importlib-metadata>=0.20; python_version < \"3.8\" in /usr/local/lib/python3.6/dist-packages (from catalogue<1.1.0,>=0.0.7->spacy>=2.2.2->en_core_web_sm==2.2.5) (1.6.0)\n",
            "Requirement already satisfied: certifi>=2017.4.17 in /usr/local/lib/python3.6/dist-packages (from requests<3.0.0,>=2.13.0->spacy>=2.2.2->en_core_web_sm==2.2.5) (2019.11.28)\n",
            "Requirement already satisfied: urllib3<1.25,>=1.21.1 in /usr/local/lib/python3.6/dist-packages (from requests<3.0.0,>=2.13.0->spacy>=2.2.2->en_core_web_sm==2.2.5) (1.24.3)\n",
            "Requirement already satisfied: idna<2.9,>=2.5 in /usr/local/lib/python3.6/dist-packages (from requests<3.0.0,>=2.13.0->spacy>=2.2.2->en_core_web_sm==2.2.5) (2.8)\n",
            "Requirement already satisfied: chardet<3.1.0,>=3.0.2 in /usr/local/lib/python3.6/dist-packages (from requests<3.0.0,>=2.13.0->spacy>=2.2.2->en_core_web_sm==2.2.5) (3.0.4)\n",
            "Requirement already satisfied: zipp>=0.5 in /usr/local/lib/python3.6/dist-packages (from importlib-metadata>=0.20; python_version < \"3.8\"->catalogue<1.1.0,>=0.0.7->spacy>=2.2.2->en_core_web_sm==2.2.5) (3.1.0)\n",
            "\u001b[38;5;2m✔ Download and installation successful\u001b[0m\n",
            "You can now load the model via spacy.load('en_core_web_sm')\n",
            "\u001b[38;5;2m✔ Linking successful\u001b[0m\n",
            "/usr/local/lib/python3.6/dist-packages/en_core_web_sm -->\n",
            "/usr/local/lib/python3.6/dist-packages/spacy/data/en\n",
            "You can now load the model via spacy.load('en')\n",
            "Collecting pt_core_news_sm==2.2.5\n",
            "\u001b[?25l  Downloading https://github.com/explosion/spacy-models/releases/download/pt_core_news_sm-2.2.5/pt_core_news_sm-2.2.5.tar.gz (21.2MB)\n",
            "\u001b[K     |████████████████████████████████| 21.2MB 3.9MB/s \n",
            "\u001b[?25hRequirement already satisfied: spacy>=2.2.2 in /usr/local/lib/python3.6/dist-packages (from pt_core_news_sm==2.2.5) (2.2.4)\n",
            "Requirement already satisfied: wasabi<1.1.0,>=0.4.0 in /usr/local/lib/python3.6/dist-packages (from spacy>=2.2.2->pt_core_news_sm==2.2.5) (0.6.0)\n",
            "Requirement already satisfied: catalogue<1.1.0,>=0.0.7 in /usr/local/lib/python3.6/dist-packages (from spacy>=2.2.2->pt_core_news_sm==2.2.5) (1.0.0)\n",
            "Requirement already satisfied: requests<3.0.0,>=2.13.0 in /usr/local/lib/python3.6/dist-packages (from spacy>=2.2.2->pt_core_news_sm==2.2.5) (2.21.0)\n",
            "Requirement already satisfied: preshed<3.1.0,>=3.0.2 in /usr/local/lib/python3.6/dist-packages (from spacy>=2.2.2->pt_core_news_sm==2.2.5) (3.0.2)\n",
            "Requirement already satisfied: cymem<2.1.0,>=2.0.2 in /usr/local/lib/python3.6/dist-packages (from spacy>=2.2.2->pt_core_news_sm==2.2.5) (2.0.3)\n",
            "Requirement already satisfied: tqdm<5.0.0,>=4.38.0 in /usr/local/lib/python3.6/dist-packages (from spacy>=2.2.2->pt_core_news_sm==2.2.5) (4.38.0)\n",
            "Requirement already satisfied: numpy>=1.15.0 in /usr/local/lib/python3.6/dist-packages (from spacy>=2.2.2->pt_core_news_sm==2.2.5) (1.18.2)\n",
            "Requirement already satisfied: thinc==7.4.0 in /usr/local/lib/python3.6/dist-packages (from spacy>=2.2.2->pt_core_news_sm==2.2.5) (7.4.0)\n",
            "Requirement already satisfied: setuptools in /usr/local/lib/python3.6/dist-packages (from spacy>=2.2.2->pt_core_news_sm==2.2.5) (46.0.0)\n",
            "Requirement already satisfied: murmurhash<1.1.0,>=0.28.0 in /usr/local/lib/python3.6/dist-packages (from spacy>=2.2.2->pt_core_news_sm==2.2.5) (1.0.2)\n",
            "Requirement already satisfied: blis<0.5.0,>=0.4.0 in /usr/local/lib/python3.6/dist-packages (from spacy>=2.2.2->pt_core_news_sm==2.2.5) (0.4.1)\n",
            "Requirement already satisfied: srsly<1.1.0,>=1.0.2 in /usr/local/lib/python3.6/dist-packages (from spacy>=2.2.2->pt_core_news_sm==2.2.5) (1.0.2)\n",
            "Requirement already satisfied: plac<1.2.0,>=0.9.6 in /usr/local/lib/python3.6/dist-packages (from spacy>=2.2.2->pt_core_news_sm==2.2.5) (1.1.3)\n",
            "Requirement already satisfied: importlib-metadata>=0.20; python_version < \"3.8\" in /usr/local/lib/python3.6/dist-packages (from catalogue<1.1.0,>=0.0.7->spacy>=2.2.2->pt_core_news_sm==2.2.5) (1.6.0)\n",
            "Requirement already satisfied: chardet<3.1.0,>=3.0.2 in /usr/local/lib/python3.6/dist-packages (from requests<3.0.0,>=2.13.0->spacy>=2.2.2->pt_core_news_sm==2.2.5) (3.0.4)\n",
            "Requirement already satisfied: urllib3<1.25,>=1.21.1 in /usr/local/lib/python3.6/dist-packages (from requests<3.0.0,>=2.13.0->spacy>=2.2.2->pt_core_news_sm==2.2.5) (1.24.3)\n",
            "Requirement already satisfied: idna<2.9,>=2.5 in /usr/local/lib/python3.6/dist-packages (from requests<3.0.0,>=2.13.0->spacy>=2.2.2->pt_core_news_sm==2.2.5) (2.8)\n",
            "Requirement already satisfied: certifi>=2017.4.17 in /usr/local/lib/python3.6/dist-packages (from requests<3.0.0,>=2.13.0->spacy>=2.2.2->pt_core_news_sm==2.2.5) (2019.11.28)\n",
            "Requirement already satisfied: zipp>=0.5 in /usr/local/lib/python3.6/dist-packages (from importlib-metadata>=0.20; python_version < \"3.8\"->catalogue<1.1.0,>=0.0.7->spacy>=2.2.2->pt_core_news_sm==2.2.5) (3.1.0)\n",
            "Building wheels for collected packages: pt-core-news-sm\n",
            "  Building wheel for pt-core-news-sm (setup.py) ... \u001b[?25l\u001b[?25hdone\n",
            "  Created wheel for pt-core-news-sm: filename=pt_core_news_sm-2.2.5-cp36-none-any.whl size=21186282 sha256=b27e65e80b502afe9da086f4853a64c9fa7e9fcc627b0f02b491e053fed636ef\n",
            "  Stored in directory: /tmp/pip-ephem-wheel-cache-oiqbbuq7/wheels/ea/94/74/ec9be8418e9231b471be5dc7e1b45dd670019a376a6b5bc1c0\n",
            "Successfully built pt-core-news-sm\n",
            "Installing collected packages: pt-core-news-sm\n",
            "Successfully installed pt-core-news-sm-2.2.5\n",
            "\u001b[38;5;2m✔ Download and installation successful\u001b[0m\n",
            "You can now load the model via spacy.load('pt_core_news_sm')\n",
            "\u001b[38;5;2m✔ Linking successful\u001b[0m\n",
            "/usr/local/lib/python3.6/dist-packages/pt_core_news_sm -->\n",
            "/usr/local/lib/python3.6/dist-packages/spacy/data/pt\n",
            "You can now load the model via spacy.load('pt')\n"
          ],
          "name": "stdout"
        }
      ]
    },
    {
      "cell_type": "code",
      "metadata": {
        "id": "arcUTzHuYlMf",
        "colab_type": "code",
        "colab": {
          "base_uri": "https://localhost:8080/",
          "height": 34
        },
        "outputId": "4799e1d7-d71f-49d0-a983-d7a1e23bc8dd"
      },
      "source": [
        "!ls"
      ],
      "execution_count": 4,
      "outputs": [
        {
          "output_type": "stream",
          "text": [
            "sample_data\n"
          ],
          "name": "stdout"
        }
      ]
    },
    {
      "cell_type": "code",
      "metadata": {
        "id": "7WcaC0lTZioq",
        "colab_type": "code",
        "colab": {
          "base_uri": "https://localhost:8080/",
          "height": 122
        },
        "outputId": "bb51b199-969f-4764-e4de-57f3219b5671"
      },
      "source": [
        "# O dataset no momento estará no Google Drive.\n",
        "\n",
        "from google.colab import drive\n",
        "\n",
        "ROOT = \"/content/drive\"\n",
        "\n",
        "drive.mount(ROOT)"
      ],
      "execution_count": 5,
      "outputs": [
        {
          "output_type": "stream",
          "text": [
            "Go to this URL in a browser: https://accounts.google.com/o/oauth2/auth?client_id=947318989803-6bn6qk8qdgf4n4g3pfee6491hc0brc4i.apps.googleusercontent.com&redirect_uri=urn%3aietf%3awg%3aoauth%3a2.0%3aoob&response_type=code&scope=email%20https%3a%2f%2fwww.googleapis.com%2fauth%2fdocs.test%20https%3a%2f%2fwww.googleapis.com%2fauth%2fdrive%20https%3a%2f%2fwww.googleapis.com%2fauth%2fdrive.photos.readonly%20https%3a%2f%2fwww.googleapis.com%2fauth%2fpeopleapi.readonly\n",
            "\n",
            "Enter your authorization code:\n",
            "··········\n",
            "Mounted at /content/drive\n"
          ],
          "name": "stdout"
        }
      ]
    },
    {
      "cell_type": "code",
      "metadata": {
        "id": "gcxtUQWAbnfx",
        "colab_type": "code",
        "colab": {
          "base_uri": "https://localhost:8080/",
          "height": 34
        },
        "outputId": "ebbd724f-15ff-4fbd-d3f9-9d125c19d4e6"
      },
      "source": [
        "!ls \"/content/drive/My Drive/whatsapptcesp\""
      ],
      "execution_count": 6,
      "outputs": [
        {
          "output_type": "stream",
          "text": [
            "tickets-20200401.csv\n"
          ],
          "name": "stdout"
        }
      ]
    },
    {
      "cell_type": "code",
      "metadata": {
        "id": "7Z2gaUuJb3Wy",
        "colab_type": "code",
        "colab": {}
      },
      "source": [
        "datasetbase = Path(\"/content/drive/My Drive/whatsapptcesp/\")\n",
        "dataset = pd.read_csv(datasetbase / \"tickets-20200401.csv\")"
      ],
      "execution_count": 0,
      "outputs": []
    },
    {
      "cell_type": "code",
      "metadata": {
        "id": "0qlegG_Adrhu",
        "colab_type": "code",
        "colab": {
          "base_uri": "https://localhost:8080/",
          "height": 54
        },
        "outputId": "bdeddbce-0063-45f9-b20b-175f9bc20a1b"
      },
      "source": [
        "#Vamos ver extatamente quais são as colunas...\n",
        "print(dataset.columns.tolist())"
      ],
      "execution_count": 8,
      "outputs": [
        {
          "output_type": "stream",
          "text": [
            "['Número do Chamado', 'Data', 'Assunto', 'De', 'E-mail de Origem', 'Prioridade', 'Departamento', 'Área de Atuação', 'Origem', 'Status Atual', 'Última Atualização', 'Data de Vencimento', 'Atrasado', 'Respondidos', 'Atribuído a', 'Agente Atribuído', 'Equipe Atribuída']\n"
          ],
          "name": "stdout"
        }
      ]
    },
    {
      "cell_type": "code",
      "metadata": {
        "id": "q7IISqBdd-vk",
        "colab_type": "code",
        "colab": {
          "base_uri": "https://localhost:8080/",
          "height": 68
        },
        "outputId": "2ceb0430-5d82-45d1-e54f-f8449dcccf15"
      },
      "source": [
        "print()\n",
        "print(\"Tamanho:\")\n",
        "print(dataset.shape)"
      ],
      "execution_count": 9,
      "outputs": [
        {
          "output_type": "stream",
          "text": [
            "\n",
            "Tamanho:\n",
            "(1163, 17)\n"
          ],
          "name": "stdout"
        }
      ]
    },
    {
      "cell_type": "code",
      "metadata": {
        "id": "OpdV-g-JeHVv",
        "colab_type": "code",
        "colab": {
          "base_uri": "https://localhost:8080/",
          "height": 733
        },
        "outputId": "48fdd16d-785d-4a60-c2b3-e211cdce5dca"
      },
      "source": [
        "dataset.head(10)"
      ],
      "execution_count": 10,
      "outputs": [
        {
          "output_type": "execute_result",
          "data": {
            "text/html": [
              "<div>\n",
              "<style scoped>\n",
              "    .dataframe tbody tr th:only-of-type {\n",
              "        vertical-align: middle;\n",
              "    }\n",
              "\n",
              "    .dataframe tbody tr th {\n",
              "        vertical-align: top;\n",
              "    }\n",
              "\n",
              "    .dataframe thead th {\n",
              "        text-align: right;\n",
              "    }\n",
              "</style>\n",
              "<table border=\"1\" class=\"dataframe\">\n",
              "  <thead>\n",
              "    <tr style=\"text-align: right;\">\n",
              "      <th></th>\n",
              "      <th>Número do Chamado</th>\n",
              "      <th>Data</th>\n",
              "      <th>Assunto</th>\n",
              "      <th>De</th>\n",
              "      <th>E-mail de Origem</th>\n",
              "      <th>Prioridade</th>\n",
              "      <th>Departamento</th>\n",
              "      <th>Área de Atuação</th>\n",
              "      <th>Origem</th>\n",
              "      <th>Status Atual</th>\n",
              "      <th>Última Atualização</th>\n",
              "      <th>Data de Vencimento</th>\n",
              "      <th>Atrasado</th>\n",
              "      <th>Respondidos</th>\n",
              "      <th>Atribuído a</th>\n",
              "      <th>Agente Atribuído</th>\n",
              "      <th>Equipe Atribuída</th>\n",
              "    </tr>\n",
              "  </thead>\n",
              "  <tbody>\n",
              "    <tr>\n",
              "      <th>0</th>\n",
              "      <td>DTEC0000013053</td>\n",
              "      <td>2020-03-02 08:25:38</td>\n",
              "      <td>Autodesk</td>\n",
              "      <td>CLEVERSON FIUZA ALVES</td>\n",
              "      <td>cfalves@tce.sp.gov.br</td>\n",
              "      <td>Normal</td>\n",
              "      <td>DTEC 3T</td>\n",
              "      <td>Software / Problemas com aplicativos diversos</td>\n",
              "      <td>Phone</td>\n",
              "      <td>Fechado</td>\n",
              "      <td>2020-03-03 08:36:40</td>\n",
              "      <td>NaN</td>\n",
              "      <td>0</td>\n",
              "      <td>0</td>\n",
              "      <td>Junior Armando</td>\n",
              "      <td>Armando Junior</td>\n",
              "      <td>NaN</td>\n",
              "    </tr>\n",
              "    <tr>\n",
              "      <th>1</th>\n",
              "      <td>DTEC0000013059</td>\n",
              "      <td>2020-03-02 08:44:38</td>\n",
              "      <td>lentidao</td>\n",
              "      <td>DEVANI MATTIOLI SAMPAIO</td>\n",
              "      <td>dsampaio@tce.sp.gov.br</td>\n",
              "      <td>Normal</td>\n",
              "      <td>DTEC 3T</td>\n",
              "      <td>S.O. / Lentidão</td>\n",
              "      <td>Phone</td>\n",
              "      <td>Fechado</td>\n",
              "      <td>2020-03-02 09:44:15</td>\n",
              "      <td>NaN</td>\n",
              "      <td>0</td>\n",
              "      <td>1</td>\n",
              "      <td>Weigert  Alexandre</td>\n",
              "      <td>Alexandre Weigert</td>\n",
              "      <td>NaN</td>\n",
              "    </tr>\n",
              "    <tr>\n",
              "      <th>2</th>\n",
              "      <td>DTEC0000013061</td>\n",
              "      <td>2020-03-02 08:49:53</td>\n",
              "      <td>Configurar macros no word</td>\n",
              "      <td>RAFAEL RODRIGUES</td>\n",
              "      <td>rafarodrigues@tce.sp.gov.br</td>\n",
              "      <td>Normal</td>\n",
              "      <td>DTEC 3T</td>\n",
              "      <td>Software / Instalação/configuração de Microsof...</td>\n",
              "      <td>Phone</td>\n",
              "      <td>Fechado</td>\n",
              "      <td>2020-03-02 16:16:01</td>\n",
              "      <td>NaN</td>\n",
              "      <td>0</td>\n",
              "      <td>0</td>\n",
              "      <td>Colpani  Thomaz</td>\n",
              "      <td>Thomaz Colpani</td>\n",
              "      <td>NaN</td>\n",
              "    </tr>\n",
              "    <tr>\n",
              "      <th>3</th>\n",
              "      <td>DTEC0000013065</td>\n",
              "      <td>2020-03-02 08:55:35</td>\n",
              "      <td>Perfil PRODESP</td>\n",
              "      <td>Rosana Nishimoto das Chagas</td>\n",
              "      <td>gcccm@tce.sp.gov.br</td>\n",
              "      <td>Normal</td>\n",
              "      <td>DTEC 3T</td>\n",
              "      <td>Grande Porte / Configuração impressora de rela...</td>\n",
              "      <td>Phone</td>\n",
              "      <td>Fechado</td>\n",
              "      <td>2020-03-02 08:57:23</td>\n",
              "      <td>NaN</td>\n",
              "      <td>0</td>\n",
              "      <td>0</td>\n",
              "      <td>Colpani  Thomaz</td>\n",
              "      <td>Thomaz Colpani</td>\n",
              "      <td>NaN</td>\n",
              "    </tr>\n",
              "    <tr>\n",
              "      <th>4</th>\n",
              "      <td>DTEC0000013066</td>\n",
              "      <td>2020-03-02 08:56:47</td>\n",
              "      <td>Aviso de cota excedida'</td>\n",
              "      <td>NIELSEN ELISA DE MORAIS DOS SANTOS</td>\n",
              "      <td>nmorais@tce.sp.gov.br</td>\n",
              "      <td>Normal</td>\n",
              "      <td>DTEC 3T</td>\n",
              "      <td>E-mail / Problemas com Outlook/Webmail</td>\n",
              "      <td>Phone</td>\n",
              "      <td>Fechado</td>\n",
              "      <td>2020-03-03 11:09:41</td>\n",
              "      <td>NaN</td>\n",
              "      <td>0</td>\n",
              "      <td>0</td>\n",
              "      <td>Matheus Grillo  Rogério</td>\n",
              "      <td>Rogério Matheus Grillo</td>\n",
              "      <td>NaN</td>\n",
              "    </tr>\n",
              "    <tr>\n",
              "      <th>5</th>\n",
              "      <td>USR0000002714</td>\n",
              "      <td>2020-03-02 09:22:39</td>\n",
              "      <td>Problema</td>\n",
              "      <td>DENISE NEGRINI</td>\n",
              "      <td>dnegrini@tce.sp.gov.br</td>\n",
              "      <td>Normal</td>\n",
              "      <td>DTEC 3T</td>\n",
              "      <td>08.2 De softwares e aplicativos comuns (Word, ...</td>\n",
              "      <td>Phone</td>\n",
              "      <td>Fechado</td>\n",
              "      <td>2020-03-04 14:57:23</td>\n",
              "      <td>NaN</td>\n",
              "      <td>0</td>\n",
              "      <td>0</td>\n",
              "      <td>Colpani  Thomaz</td>\n",
              "      <td>Thomaz Colpani</td>\n",
              "      <td>NaN</td>\n",
              "    </tr>\n",
              "    <tr>\n",
              "      <th>6</th>\n",
              "      <td>DTEC0000013075</td>\n",
              "      <td>2020-03-02 09:46:59</td>\n",
              "      <td>Instalar aplicativo</td>\n",
              "      <td>MANUELA PRADO LEITÃO</td>\n",
              "      <td>mleitao@tce.sp.gov.br</td>\n",
              "      <td>Normal</td>\n",
              "      <td>DTEC 3T</td>\n",
              "      <td>Software / Instalação/configuração de aplicati...</td>\n",
              "      <td>Phone</td>\n",
              "      <td>Fechado</td>\n",
              "      <td>2020-03-03 10:36:20</td>\n",
              "      <td>NaN</td>\n",
              "      <td>0</td>\n",
              "      <td>0</td>\n",
              "      <td>Colpani  Thomaz</td>\n",
              "      <td>Thomaz Colpani</td>\n",
              "      <td>NaN</td>\n",
              "    </tr>\n",
              "    <tr>\n",
              "      <th>7</th>\n",
              "      <td>DTEC0000013076</td>\n",
              "      <td>2020-03-02 09:48:19</td>\n",
              "      <td>Instalar app</td>\n",
              "      <td>MARCIO EDUARDO ARANTES PEREIRA</td>\n",
              "      <td>meapereira@tce.sp.gov.br</td>\n",
              "      <td>Normal</td>\n",
              "      <td>DTEC 3T</td>\n",
              "      <td>Software / Instalação/configuração de aplicati...</td>\n",
              "      <td>Phone</td>\n",
              "      <td>Fechado</td>\n",
              "      <td>2020-03-03 16:08:11</td>\n",
              "      <td>NaN</td>\n",
              "      <td>0</td>\n",
              "      <td>0</td>\n",
              "      <td>Colpani  Thomaz</td>\n",
              "      <td>Thomaz Colpani</td>\n",
              "      <td>NaN</td>\n",
              "    </tr>\n",
              "    <tr>\n",
              "      <th>8</th>\n",
              "      <td>DTEC0000013080</td>\n",
              "      <td>2020-03-02 10:13:09</td>\n",
              "      <td>Instalação de impressoras</td>\n",
              "      <td>Bruno Luiz Rodrigues Da Silva</td>\n",
              "      <td>blsilva@tce.sp.gov.br</td>\n",
              "      <td>Normal</td>\n",
              "      <td>DTEC 3T</td>\n",
              "      <td>Grande Porte / Configuração impressora de rela...</td>\n",
              "      <td>Phone</td>\n",
              "      <td>Fechado</td>\n",
              "      <td>2020-03-02 15:48:19</td>\n",
              "      <td>NaN</td>\n",
              "      <td>0</td>\n",
              "      <td>0</td>\n",
              "      <td>Matheus Grillo  Rogério</td>\n",
              "      <td>Rogério Matheus Grillo</td>\n",
              "      <td>NaN</td>\n",
              "    </tr>\n",
              "    <tr>\n",
              "      <th>9</th>\n",
              "      <td>DTEC0000013081</td>\n",
              "      <td>2020-03-02 10:29:19</td>\n",
              "      <td>Problemas para entrar no SEI</td>\n",
              "      <td>Loadyr da Silva Junior</td>\n",
              "      <td>lsjunior@tce.sp.gov.br</td>\n",
              "      <td>Normal</td>\n",
              "      <td>DTEC 3T</td>\n",
              "      <td>Software / Problemas com sistemas internos</td>\n",
              "      <td>Phone</td>\n",
              "      <td>Fechado</td>\n",
              "      <td>2020-03-03 14:05:16</td>\n",
              "      <td>NaN</td>\n",
              "      <td>0</td>\n",
              "      <td>0</td>\n",
              "      <td>Gabriel Pereira Biolcatti Gustavo</td>\n",
              "      <td>Gustavo Gabriel Pereira Biolcatti</td>\n",
              "      <td>NaN</td>\n",
              "    </tr>\n",
              "  </tbody>\n",
              "</table>\n",
              "</div>"
            ],
            "text/plain": [
              "  Número do Chamado  ... Equipe Atribuída\n",
              "0    DTEC0000013053  ...              NaN\n",
              "1    DTEC0000013059  ...              NaN\n",
              "2    DTEC0000013061  ...              NaN\n",
              "3    DTEC0000013065  ...              NaN\n",
              "4    DTEC0000013066  ...              NaN\n",
              "5     USR0000002714  ...              NaN\n",
              "6    DTEC0000013075  ...              NaN\n",
              "7    DTEC0000013076  ...              NaN\n",
              "8    DTEC0000013080  ...              NaN\n",
              "9    DTEC0000013081  ...              NaN\n",
              "\n",
              "[10 rows x 17 columns]"
            ]
          },
          "metadata": {
            "tags": []
          },
          "execution_count": 10
        }
      ]
    },
    {
      "cell_type": "code",
      "metadata": {
        "id": "Q-PUlBTCnNbr",
        "colab_type": "code",
        "colab": {
          "base_uri": "https://localhost:8080/",
          "height": 323
        },
        "outputId": "7057dc69-ce46-4aef-cb5e-8434e311e57d"
      },
      "source": [
        "#Análise de valores inválidos\n",
        "print(dataset.isna().any())"
      ],
      "execution_count": 11,
      "outputs": [
        {
          "output_type": "stream",
          "text": [
            "Número do Chamado     False\n",
            "Data                  False\n",
            "Assunto               False\n",
            "De                    False\n",
            "E-mail de Origem      False\n",
            "Prioridade            False\n",
            "Departamento          False\n",
            "Área de Atuação       False\n",
            "Origem                False\n",
            "Status Atual          False\n",
            "Última Atualização    False\n",
            "Data de Vencimento     True\n",
            "Atrasado              False\n",
            "Respondidos           False\n",
            "Atribuído a            True\n",
            "Agente Atribuído       True\n",
            "Equipe Atribuída       True\n",
            "dtype: bool\n"
          ],
          "name": "stdout"
        }
      ]
    },
    {
      "cell_type": "code",
      "metadata": {
        "id": "G0FyuIJmnTZ1",
        "colab_type": "code",
        "colab": {}
      },
      "source": [
        "# As colunas que importam não tem valores nulos, podemos fazer uma análise então.\n",
        "#Muitas vezes a Coluna \"Assunto\" é muito mais útil que a \"Área de Atuação\"\n",
        "#Vou criar um dataset mesclando essas duas colunas\n",
        "#dataset_novo[\"pedido\"] = dataset[\"Assunto\"] + dataset[\"Área de Atuação\"]\n",
        "#dataset_novo = pd.concat([dataset[\"Assunto\"]], dataset[\"Área de Atuação\"])\n",
        "#dataset_novo.head()\n",
        "#dataset[\"Assunto\"]."
      ],
      "execution_count": 0,
      "outputs": []
    },
    {
      "cell_type": "code",
      "metadata": {
        "id": "xwqSq-_Lobzo",
        "colab_type": "code",
        "colab": {
          "base_uri": "https://localhost:8080/",
          "height": 34
        },
        "outputId": "74a61efa-1584-4517-d1cc-5b4a0b4ef4b1"
      },
      "source": [
        "palavras_assunto = dataset[\"Assunto\"].str.cat(sep=\" \").lower()\n",
        "len(palavras_assunto)"
      ],
      "execution_count": 78,
      "outputs": [
        {
          "output_type": "execute_result",
          "data": {
            "text/plain": [
              "29471"
            ]
          },
          "metadata": {
            "tags": []
          },
          "execution_count": 78
        }
      ]
    },
    {
      "cell_type": "code",
      "metadata": {
        "id": "Bk8l4DAjXB33",
        "colab_type": "code",
        "colab": {}
      },
      "source": [
        "import nltk\n",
        "import spacy\n",
        "\n",
        "nlp = spacy.load('pt')\n",
        "nlp.Defaults.stop_words |= {\"instalação\", \"acesso\", \"configuração\", \"instalar\", \"problema\", \"problemas\", \"orientação\", \"o\", \"a\", \"e\"}"
      ],
      "execution_count": 0,
      "outputs": []
    },
    {
      "cell_type": "code",
      "metadata": {
        "id": "DCvmf1UJjqMu",
        "colab_type": "code",
        "colab": {}
      },
      "source": [
        "doc = nlp(palavras_assunto)"
      ],
      "execution_count": 0,
      "outputs": []
    },
    {
      "cell_type": "code",
      "metadata": {
        "id": "B-Xhl_b5oVPP",
        "colab_type": "code",
        "colab": {}
      },
      "source": [
        "sem_stop_words = [(token.orth_, token.lemma_) for token in doc if not (token.is_stop or token.is_punct)]"
      ],
      "execution_count": 0,
      "outputs": []
    },
    {
      "cell_type": "code",
      "metadata": {
        "id": "hvlI9gvgqTwM",
        "colab_type": "code",
        "colab": {
          "base_uri": "https://localhost:8080/",
          "height": 34
        },
        "outputId": "aa13e703-30c1-4da1-dabe-3f50004625ec"
      },
      "source": [
        "len(sem_stop_words)"
      ],
      "execution_count": 151,
      "outputs": [
        {
          "output_type": "execute_result",
          "data": {
            "text/plain": [
              "2575"
            ]
          },
          "metadata": {
            "tags": []
          },
          "execution_count": 151
        }
      ]
    },
    {
      "cell_type": "code",
      "metadata": {
        "id": "P0LenIVKqVxN",
        "colab_type": "code",
        "colab": {
          "base_uri": "https://localhost:8080/",
          "height": 419
        },
        "outputId": "b606f10f-2b1c-4334-edad-10c53af2b19b"
      },
      "source": [
        "sem_stop_words[0:10]\n",
        "tmp_dataframe = pd.DataFrame(data=sem_stop_words,columns=(\"Orth\", \"Lemma\"))\n",
        "tmp_dataframe.head()\n",
        "tmp_dataframe[tmp_dataframe[\"Lemma\"]==\"o\"]"
      ],
      "execution_count": 152,
      "outputs": [
        {
          "output_type": "execute_result",
          "data": {
            "text/html": [
              "<div>\n",
              "<style scoped>\n",
              "    .dataframe tbody tr th:only-of-type {\n",
              "        vertical-align: middle;\n",
              "    }\n",
              "\n",
              "    .dataframe tbody tr th {\n",
              "        vertical-align: top;\n",
              "    }\n",
              "\n",
              "    .dataframe thead th {\n",
              "        text-align: right;\n",
              "    }\n",
              "</style>\n",
              "<table border=\"1\" class=\"dataframe\">\n",
              "  <thead>\n",
              "    <tr style=\"text-align: right;\">\n",
              "      <th></th>\n",
              "      <th>Orth</th>\n",
              "      <th>Lemma</th>\n",
              "    </tr>\n",
              "  </thead>\n",
              "  <tbody>\n",
              "    <tr>\n",
              "      <th>32</th>\n",
              "      <td>a</td>\n",
              "      <td>o</td>\n",
              "    </tr>\n",
              "    <tr>\n",
              "      <th>34</th>\n",
              "      <td>a</td>\n",
              "      <td>o</td>\n",
              "    </tr>\n",
              "    <tr>\n",
              "      <th>35</th>\n",
              "      <td>o</td>\n",
              "      <td>o</td>\n",
              "    </tr>\n",
              "    <tr>\n",
              "      <th>67</th>\n",
              "      <td>a</td>\n",
              "      <td>o</td>\n",
              "    </tr>\n",
              "    <tr>\n",
              "      <th>68</th>\n",
              "      <td>o</td>\n",
              "      <td>o</td>\n",
              "    </tr>\n",
              "    <tr>\n",
              "      <th>...</th>\n",
              "      <td>...</td>\n",
              "      <td>...</td>\n",
              "    </tr>\n",
              "    <tr>\n",
              "      <th>2555</th>\n",
              "      <td>a</td>\n",
              "      <td>o</td>\n",
              "    </tr>\n",
              "    <tr>\n",
              "      <th>2556</th>\n",
              "      <td>o</td>\n",
              "      <td>o</td>\n",
              "    </tr>\n",
              "    <tr>\n",
              "      <th>2558</th>\n",
              "      <td>a</td>\n",
              "      <td>o</td>\n",
              "    </tr>\n",
              "    <tr>\n",
              "      <th>2563</th>\n",
              "      <td>a</td>\n",
              "      <td>o</td>\n",
              "    </tr>\n",
              "    <tr>\n",
              "      <th>2564</th>\n",
              "      <td>o</td>\n",
              "      <td>o</td>\n",
              "    </tr>\n",
              "  </tbody>\n",
              "</table>\n",
              "<p>250 rows × 2 columns</p>\n",
              "</div>"
            ],
            "text/plain": [
              "     Orth Lemma\n",
              "32      a     o\n",
              "34      a     o\n",
              "35      o     o\n",
              "67      a     o\n",
              "68      o     o\n",
              "...   ...   ...\n",
              "2555    a     o\n",
              "2556    o     o\n",
              "2558    a     o\n",
              "2563    a     o\n",
              "2564    o     o\n",
              "\n",
              "[250 rows x 2 columns]"
            ]
          },
          "metadata": {
            "tags": []
          },
          "execution_count": 152
        }
      ]
    },
    {
      "cell_type": "code",
      "metadata": {
        "id": "zkTwcPtRq081",
        "colab_type": "code",
        "colab": {}
      },
      "source": [
        "from collections import Counter"
      ],
      "execution_count": 0,
      "outputs": []
    },
    {
      "cell_type": "code",
      "metadata": {
        "id": "zCHAY35zs-PE",
        "colab_type": "code",
        "colab": {}
      },
      "source": [
        "word_freq = Counter(sem_stop_words)\n",
        "common_words = word_freq.most_common(10)"
      ],
      "execution_count": 0,
      "outputs": []
    },
    {
      "cell_type": "code",
      "metadata": {
        "id": "X1tKzlLttMny",
        "colab_type": "code",
        "colab": {
          "base_uri": "https://localhost:8080/",
          "height": 54
        },
        "outputId": "bcb1adee-c7be-4618-f9a8-8513ff621b61"
      },
      "source": [
        "print(common_words)"
      ],
      "execution_count": 155,
      "outputs": [
        {
          "output_type": "stream",
          "text": [
            "[(('ergon', 'ergon'), 150), (('o', 'o'), 127), (('vpn', 'vpn'), 125), (('a', 'o'), 123), (('pidgin', 'pidgin'), 83), (('remoto', 'remoto'), 67), (('cisco', 'ciscar'), 55), (('impressora', 'impressor'), 48), (('pdf', 'pdf'), 37), (('nota', 'noto'), 35)]\n"
          ],
          "name": "stdout"
        }
      ]
    },
    {
      "cell_type": "code",
      "metadata": {
        "id": "9d3p6IIMtT5D",
        "colab_type": "code",
        "colab": {}
      },
      "source": [
        ""
      ],
      "execution_count": 0,
      "outputs": []
    }
  ]
}