{
 "cells": [
  {
   "cell_type": "markdown",
   "metadata": {},
   "source": [
    "# MBA FIAP Inteligência Artificial & Machine Learning\n",
    "\n",
    "![Image of Dementia](img/ml.png)\n",
    "\n",
    "## Programando IA com Python\n",
    "## Projeto Final: Estimando Preços de Automóveis Utilizando Modelos de Regressão\n",
    "\n",
    "Este projeto final tem como objetivo explorar os conhecimentos adquiridos nas aulas práticas. Por meio uma trilha guiada para construir um classificador que permitirá predizer o valor de um automóvel baseado em algumas características que cada grupo deverá escolher.\n",
    "\n",
    "Este projeto poderá ser feita por grupos de até 4 pessoas.\n",
    "\n",
    "| Nome dos Integrantes        | RM            | Turma |\n",
    "| :-----------------------    | :------------- | :-----: |\n",
    "| Alexei Dimitri Diniz Campos | RM 331056      | `2IA` |\n",
    "\n",
    "\n",
    "Por ser um projeto guiado, fique atento quando houver as marcações **Implementação** indica que é necessário realizar alguma implementação em Python no bloco a seguir onde há a inscrição ```##IMPLEMENTAR``` e **Resposta** indica que é esperado uma resposta objetiva relacionado a algum questionamento. \n",
    "\n",
    "**Cada grupo pode utilizar nas respostas objetivas quaisquer itens necessários que enriqueçam seu ponto vista, como gráficos, fotos e, até mesmo, trechos de código-fonte.**\n",
    "\n",
    "Pode-se utilizar quantos blocos forem necessários para realizar determinadas implementações ou utilizá-las para justificar as respostas. Não é obrigatório utilizar somente o bloco indicado.\n",
    "\n",
    "Ao final não se esqueça de subir os arquivos do projeto nas contas do GitHub de cada membro, ou subir na do representante do grupo e os membros realizarem o fork do projeto.\n",
    "\n",
    "A avaliação terá mais ênfase nos seguintes tópicos de desenvolvimento do projeto:\n",
    " \n",
    "1. __Exploração de Dados__\n",
    "2. __Preparação de Dados__\n",
    "3. __Desenvolvimento do Modelo__\n",
    "4. __Treinamento e Teste do Modelo__\n",
    "5. __Validação e Otimização do Modelo__\n",
    "6. __Conclusões Finais__"
   ]
  },
  {
   "cell_type": "markdown",
   "metadata": {},
   "source": [
    "## Exploração de Dados"
   ]
  },
  {
   "cell_type": "markdown",
   "metadata": {},
   "source": [
    "Os dados que serão utilizados foram modificados para propocionar uma experiência que explore melhor as técnicas de processamento e preparação de dados aprendidas.\n",
    "\n",
    "Originalmente os dados foram extraídos do Kaggle deste [dataset](https://www.kaggle.com/nisargpatel/automobiles/data)."
   ]
  },
  {
   "cell_type": "markdown",
   "metadata": {},
   "source": [
    "**Implementação** \n",
    "\n",
    "Carregue o dataset \"automobile-mod.csv\" que se encontra na pasta \"data\" e faça uma inspeção nas 10 primeiras linhas para identificação básica dos atributos.\n",
    "\n",
    "**O dataset original \"automobile.csv\" se encontra na mesma pasta apenas como referência. Não deverá ser utilizado.**"
   ]
  },
  {
   "cell_type": "code",
   "execution_count": 57,
   "metadata": {},
   "outputs": [],
   "source": [
    "import seaborn as sns\n",
    "import matplotlib.pyplot as plt\n",
    "import pandas as pd\n",
    "import numpy as np\n",
    "import seaborn as sns\n",
    "from pathlib import Path\n",
    "\n",
    "%matplotlib inline\n",
    "plt.style.use('seaborn')\n",
    "\n",
    "%config IPCompleter.greedy=True"
   ]
  },
  {
   "cell_type": "code",
   "execution_count": 58,
   "metadata": {},
   "outputs": [
    {
     "name": "stdout",
     "output_type": "stream",
     "text": [
      "['make', 'fuel_type', 'aspiration', 'number_of_doors', 'body_style', 'drive_wheels', 'engine_location', 'wheel_base', 'length', 'width', 'height', 'curb_weight', 'engine_type', 'number_of_cylinders', 'engine_size', 'fuel_system', 'bore', 'stroke', 'compression_ratio', 'horsepower', 'peak_rpm', 'city_mpg', 'highway_mpg', 'price']\n",
      "\n",
      "Tamanho:\n",
      "(201, 24)\n"
     ]
    },
    {
     "data": {
      "text/html": [
       "<div>\n",
       "<style scoped>\n",
       "    .dataframe tbody tr th:only-of-type {\n",
       "        vertical-align: middle;\n",
       "    }\n",
       "\n",
       "    .dataframe tbody tr th {\n",
       "        vertical-align: top;\n",
       "    }\n",
       "\n",
       "    .dataframe thead th {\n",
       "        text-align: right;\n",
       "    }\n",
       "</style>\n",
       "<table border=\"1\" class=\"dataframe\">\n",
       "  <thead>\n",
       "    <tr style=\"text-align: right;\">\n",
       "      <th></th>\n",
       "      <th>make</th>\n",
       "      <th>fuel_type</th>\n",
       "      <th>aspiration</th>\n",
       "      <th>number_of_doors</th>\n",
       "      <th>body_style</th>\n",
       "      <th>drive_wheels</th>\n",
       "      <th>engine_location</th>\n",
       "      <th>wheel_base</th>\n",
       "      <th>length</th>\n",
       "      <th>width</th>\n",
       "      <th>...</th>\n",
       "      <th>engine_size</th>\n",
       "      <th>fuel_system</th>\n",
       "      <th>bore</th>\n",
       "      <th>stroke</th>\n",
       "      <th>compression_ratio</th>\n",
       "      <th>horsepower</th>\n",
       "      <th>peak_rpm</th>\n",
       "      <th>city_mpg</th>\n",
       "      <th>highway_mpg</th>\n",
       "      <th>price</th>\n",
       "    </tr>\n",
       "  </thead>\n",
       "  <tbody>\n",
       "    <tr>\n",
       "      <th>0</th>\n",
       "      <td>alfa-romero</td>\n",
       "      <td>gas</td>\n",
       "      <td>std</td>\n",
       "      <td>two</td>\n",
       "      <td>convertible</td>\n",
       "      <td>rwd</td>\n",
       "      <td>front</td>\n",
       "      <td>88.6</td>\n",
       "      <td>168.8</td>\n",
       "      <td>64.1</td>\n",
       "      <td>...</td>\n",
       "      <td>130</td>\n",
       "      <td>mpfi</td>\n",
       "      <td>3.47</td>\n",
       "      <td>2.68</td>\n",
       "      <td>9.0</td>\n",
       "      <td>111</td>\n",
       "      <td>5000.0</td>\n",
       "      <td>21.0</td>\n",
       "      <td>27.0</td>\n",
       "      <td>13495</td>\n",
       "    </tr>\n",
       "    <tr>\n",
       "      <th>1</th>\n",
       "      <td>alfa-romero</td>\n",
       "      <td>gas</td>\n",
       "      <td>std</td>\n",
       "      <td>two</td>\n",
       "      <td>convertible</td>\n",
       "      <td>rwd</td>\n",
       "      <td>front</td>\n",
       "      <td>88.6</td>\n",
       "      <td>168.8</td>\n",
       "      <td>64.1</td>\n",
       "      <td>...</td>\n",
       "      <td>130</td>\n",
       "      <td>mpfi</td>\n",
       "      <td>3.47</td>\n",
       "      <td>2.68</td>\n",
       "      <td>9.0</td>\n",
       "      <td>111</td>\n",
       "      <td>5000.0</td>\n",
       "      <td>21.0</td>\n",
       "      <td>27.0</td>\n",
       "      <td>16500</td>\n",
       "    </tr>\n",
       "    <tr>\n",
       "      <th>2</th>\n",
       "      <td>alfa-romero</td>\n",
       "      <td>gas</td>\n",
       "      <td>std</td>\n",
       "      <td>two</td>\n",
       "      <td>hatchback</td>\n",
       "      <td>rwd</td>\n",
       "      <td>front</td>\n",
       "      <td>94.5</td>\n",
       "      <td>171.2</td>\n",
       "      <td>65.5</td>\n",
       "      <td>...</td>\n",
       "      <td>152</td>\n",
       "      <td>mpfi</td>\n",
       "      <td>2.68</td>\n",
       "      <td>3.47</td>\n",
       "      <td>9.0</td>\n",
       "      <td>154</td>\n",
       "      <td>5000.0</td>\n",
       "      <td>19.0</td>\n",
       "      <td>26.0</td>\n",
       "      <td>16500</td>\n",
       "    </tr>\n",
       "    <tr>\n",
       "      <th>3</th>\n",
       "      <td>audi</td>\n",
       "      <td>gas</td>\n",
       "      <td>std</td>\n",
       "      <td>four</td>\n",
       "      <td>sedan</td>\n",
       "      <td>fwd</td>\n",
       "      <td>front</td>\n",
       "      <td>99.8</td>\n",
       "      <td>176.6</td>\n",
       "      <td>66.2</td>\n",
       "      <td>...</td>\n",
       "      <td>109</td>\n",
       "      <td>mpfi</td>\n",
       "      <td>3.19</td>\n",
       "      <td>3.40</td>\n",
       "      <td>10.0</td>\n",
       "      <td>102</td>\n",
       "      <td>5500.0</td>\n",
       "      <td>24.0</td>\n",
       "      <td>30.0</td>\n",
       "      <td>13950</td>\n",
       "    </tr>\n",
       "    <tr>\n",
       "      <th>4</th>\n",
       "      <td>audi</td>\n",
       "      <td>gas</td>\n",
       "      <td>std</td>\n",
       "      <td>four</td>\n",
       "      <td>sedan</td>\n",
       "      <td>4wd</td>\n",
       "      <td>front</td>\n",
       "      <td>99.4</td>\n",
       "      <td>176.6</td>\n",
       "      <td>66.4</td>\n",
       "      <td>...</td>\n",
       "      <td>136</td>\n",
       "      <td>mpfi</td>\n",
       "      <td>3.19</td>\n",
       "      <td>3.40</td>\n",
       "      <td>8.0</td>\n",
       "      <td>115</td>\n",
       "      <td>5500.0</td>\n",
       "      <td>18.0</td>\n",
       "      <td>22.0</td>\n",
       "      <td>17450</td>\n",
       "    </tr>\n",
       "    <tr>\n",
       "      <th>5</th>\n",
       "      <td>audi</td>\n",
       "      <td>gas</td>\n",
       "      <td>std</td>\n",
       "      <td>two</td>\n",
       "      <td>sedan</td>\n",
       "      <td>fwd</td>\n",
       "      <td>front</td>\n",
       "      <td>99.8</td>\n",
       "      <td>177.3</td>\n",
       "      <td>66.3</td>\n",
       "      <td>...</td>\n",
       "      <td>136</td>\n",
       "      <td>mpfi</td>\n",
       "      <td>3.19</td>\n",
       "      <td>3.40</td>\n",
       "      <td>8.5</td>\n",
       "      <td>110</td>\n",
       "      <td>5500.0</td>\n",
       "      <td>19.0</td>\n",
       "      <td>25.0</td>\n",
       "      <td>15250</td>\n",
       "    </tr>\n",
       "    <tr>\n",
       "      <th>6</th>\n",
       "      <td>audi</td>\n",
       "      <td>gas</td>\n",
       "      <td>std</td>\n",
       "      <td>four</td>\n",
       "      <td>sedan</td>\n",
       "      <td>fwd</td>\n",
       "      <td>front</td>\n",
       "      <td>105.8</td>\n",
       "      <td>192.7</td>\n",
       "      <td>71.4</td>\n",
       "      <td>...</td>\n",
       "      <td>136</td>\n",
       "      <td>mpfi</td>\n",
       "      <td>3.19</td>\n",
       "      <td>3.40</td>\n",
       "      <td>8.5</td>\n",
       "      <td>110</td>\n",
       "      <td>5500.0</td>\n",
       "      <td>19.0</td>\n",
       "      <td>25.0</td>\n",
       "      <td>17710</td>\n",
       "    </tr>\n",
       "    <tr>\n",
       "      <th>7</th>\n",
       "      <td>audi</td>\n",
       "      <td>gas</td>\n",
       "      <td>std</td>\n",
       "      <td>four</td>\n",
       "      <td>wagon</td>\n",
       "      <td>fwd</td>\n",
       "      <td>front</td>\n",
       "      <td>105.8</td>\n",
       "      <td>192.7</td>\n",
       "      <td>71.4</td>\n",
       "      <td>...</td>\n",
       "      <td>136</td>\n",
       "      <td>mpfi</td>\n",
       "      <td>3.19</td>\n",
       "      <td>3.40</td>\n",
       "      <td>8.5</td>\n",
       "      <td>110</td>\n",
       "      <td>5500.0</td>\n",
       "      <td>19.0</td>\n",
       "      <td>25.0</td>\n",
       "      <td>18920</td>\n",
       "    </tr>\n",
       "    <tr>\n",
       "      <th>8</th>\n",
       "      <td>audi</td>\n",
       "      <td>gas</td>\n",
       "      <td>turbo</td>\n",
       "      <td>four</td>\n",
       "      <td>sedan</td>\n",
       "      <td>fwd</td>\n",
       "      <td>front</td>\n",
       "      <td>105.8</td>\n",
       "      <td>192.7</td>\n",
       "      <td>71.4</td>\n",
       "      <td>...</td>\n",
       "      <td>131</td>\n",
       "      <td>mpfi</td>\n",
       "      <td>3.13</td>\n",
       "      <td>3.40</td>\n",
       "      <td>8.3</td>\n",
       "      <td>140</td>\n",
       "      <td>5500.0</td>\n",
       "      <td>17.0</td>\n",
       "      <td>20.0</td>\n",
       "      <td>23875</td>\n",
       "    </tr>\n",
       "    <tr>\n",
       "      <th>9</th>\n",
       "      <td>bmw</td>\n",
       "      <td>gas</td>\n",
       "      <td>std</td>\n",
       "      <td>two</td>\n",
       "      <td>sedan</td>\n",
       "      <td>rwd</td>\n",
       "      <td>front</td>\n",
       "      <td>101.2</td>\n",
       "      <td>176.8</td>\n",
       "      <td>64.8</td>\n",
       "      <td>...</td>\n",
       "      <td>108</td>\n",
       "      <td>mpfi</td>\n",
       "      <td>3.50</td>\n",
       "      <td>2.80</td>\n",
       "      <td>8.8</td>\n",
       "      <td>101</td>\n",
       "      <td>5800.0</td>\n",
       "      <td>23.0</td>\n",
       "      <td>29.0</td>\n",
       "      <td>16430</td>\n",
       "    </tr>\n",
       "  </tbody>\n",
       "</table>\n",
       "<p>10 rows × 24 columns</p>\n",
       "</div>"
      ],
      "text/plain": [
       "          make fuel_type aspiration number_of_doors   body_style drive_wheels  \\\n",
       "0  alfa-romero       gas        std             two  convertible          rwd   \n",
       "1  alfa-romero       gas        std             two  convertible          rwd   \n",
       "2  alfa-romero       gas        std             two    hatchback          rwd   \n",
       "3         audi       gas        std            four        sedan          fwd   \n",
       "4         audi       gas        std            four        sedan          4wd   \n",
       "5         audi       gas        std             two        sedan          fwd   \n",
       "6         audi       gas        std            four        sedan          fwd   \n",
       "7         audi       gas        std            four        wagon          fwd   \n",
       "8         audi       gas      turbo            four        sedan          fwd   \n",
       "9          bmw       gas        std             two        sedan          rwd   \n",
       "\n",
       "  engine_location  wheel_base  length  width  ...    engine_size  fuel_system  \\\n",
       "0           front        88.6   168.8   64.1  ...            130         mpfi   \n",
       "1           front        88.6   168.8   64.1  ...            130         mpfi   \n",
       "2           front        94.5   171.2   65.5  ...            152         mpfi   \n",
       "3           front        99.8   176.6   66.2  ...            109         mpfi   \n",
       "4           front        99.4   176.6   66.4  ...            136         mpfi   \n",
       "5           front        99.8   177.3   66.3  ...            136         mpfi   \n",
       "6           front       105.8   192.7   71.4  ...            136         mpfi   \n",
       "7           front       105.8   192.7   71.4  ...            136         mpfi   \n",
       "8           front       105.8   192.7   71.4  ...            131         mpfi   \n",
       "9           front       101.2   176.8   64.8  ...            108         mpfi   \n",
       "\n",
       "   bore stroke  compression_ratio horsepower  peak_rpm  city_mpg  highway_mpg  \\\n",
       "0  3.47   2.68                9.0        111    5000.0      21.0         27.0   \n",
       "1  3.47   2.68                9.0        111    5000.0      21.0         27.0   \n",
       "2  2.68   3.47                9.0        154    5000.0      19.0         26.0   \n",
       "3  3.19   3.40               10.0        102    5500.0      24.0         30.0   \n",
       "4  3.19   3.40                8.0        115    5500.0      18.0         22.0   \n",
       "5  3.19   3.40                8.5        110    5500.0      19.0         25.0   \n",
       "6  3.19   3.40                8.5        110    5500.0      19.0         25.0   \n",
       "7  3.19   3.40                8.5        110    5500.0      19.0         25.0   \n",
       "8  3.13   3.40                8.3        140    5500.0      17.0         20.0   \n",
       "9  3.50   2.80                8.8        101    5800.0      23.0         29.0   \n",
       "\n",
       "   price  \n",
       "0  13495  \n",
       "1  16500  \n",
       "2  16500  \n",
       "3  13950  \n",
       "4  17450  \n",
       "5  15250  \n",
       "6  17710  \n",
       "7  18920  \n",
       "8  23875  \n",
       "9  16430  \n",
       "\n",
       "[10 rows x 24 columns]"
      ]
     },
     "execution_count": 58,
     "metadata": {},
     "output_type": "execute_result"
    }
   ],
   "source": [
    "#IMPLEMENTAR\n",
    "datasetbase = Path(\"data/\")\n",
    "automobile = pd.read_csv(datasetbase / \"automobile-mod.csv\", sep= ';')\n",
    "#Vamos ver extatamente quais são as colunas...\n",
    "print(automobile.columns.tolist())\n",
    "#Só para termos uma noção, vamos ver quais são as dimensões desse Dataframe:\n",
    "print()\n",
    "print(\"Tamanho:\")\n",
    "print(automobile.shape)\n",
    "#E vamos enfim extrair as 10 primeiras linhas do dataset...\n",
    "automobile.head(10)\n"
   ]
  },
  {
   "cell_type": "markdown",
   "metadata": {},
   "source": [
    "Relação das colunas e seu significado:\n",
    "\n",
    "1. make: fabricante;\n",
    "2. fuel_type: tipo de combustível;\n",
    "3. aspiration: tipo de aspiração do motor, ex. turbo ou padrão (std);\n",
    "4. number_of_doors: quantidade de portas; \n",
    "4. body_style: estilo do carro, ex. sedan ou hatchback;\n",
    "5. drive_wheels: tração do carro, ex. rwd (tração traseira) ou frw (tração dianteira);\n",
    "6. engine_location: se o motor se localiza atrás ou na frente;\n",
    "6. wheel_base: entre-eixos, distância entre o eixo dianteiro e o eixo traseiro;\n",
    "7. length: comprimento;\n",
    "8. width: largura;\n",
    "9. height: altura;\n",
    "10. curb_weight: peso;\n",
    "11. engine_type: tipo do motor;\n",
    "12. number_of_cylinders: cilindrada, quantidade de cilindros;\n",
    "13. engine_size: tamanho do motor;\n",
    "14. fuel_system: sistema de injeção;\n",
    "15. bore: diâmetro do cilindro;\n",
    "16. stroke: diâmetro do pistão;\n",
    "17. compression_ratio: razão de compressão;\n",
    "18. horsepower: cavalo de força ou HP;\n",
    "19. peak_rpm: pico de RPM (rotações por minuto);\n",
    "20. city_mpg: consumo em mpg (milhas por galão) na cidade;\n",
    "21. highway_mpg: consumo em mpg (milhas por galão) na estrada; e\n",
    "22. price: preço (**Variável Alvo**)."
   ]
  },
  {
   "cell_type": "markdown",
   "metadata": {},
   "source": [
    "### Correlacionamento dos atributos"
   ]
  },
  {
   "cell_type": "markdown",
   "metadata": {},
   "source": [
    "Vamos utilizar algumas suposições e validar se elas são verdadeiras, por exemplo, o preço do carro pode variar com seu consumo, tamanho ou força? Vamos explorar estas hipósteses ou outras que o grupo julgue relevante."
   ]
  },
  {
   "cell_type": "markdown",
   "metadata": {},
   "source": [
    "**Resposta**: Vamos avaliar preeliminarmente como as variáveis numéricas se correlacionam com o preço (sem fazer limpeza nos dados). Consideraremos em um primeiro momento, variáveis com pelo menos 20% de correlação:"
   ]
  },
  {
   "cell_type": "code",
   "execution_count": 59,
   "metadata": {},
   "outputs": [],
   "source": [
    "def correlacao_20(correlacao, target, threshold):\n",
    "    return correlacao[target][(correlacao[target] <= (-threshold)) | (correlacao[target] >= threshold)]"
   ]
  },
  {
   "cell_type": "code",
   "execution_count": 60,
   "metadata": {},
   "outputs": [
    {
     "name": "stdout",
     "output_type": "stream",
     "text": [
      "wheel_base     0.584642\n",
      "length         0.690628\n",
      "width          0.751265\n",
      "curb_weight    0.834415\n",
      "engine_size    0.872335\n",
      "bore           0.543052\n",
      "horsepower     0.810795\n",
      "city_mpg      -0.657661\n",
      "highway_mpg   -0.712812\n",
      "price          1.000000\n",
      "Name: price, dtype: float64\n"
     ]
    }
   ],
   "source": [
    "#IMPLEMENTAR\n",
    "corr_20 = automobile.corr()\n",
    "print(correlacao_20(corr_20, \"price\", 0.2))"
   ]
  },
  {
   "cell_type": "markdown",
   "metadata": {},
   "source": [
    "As colunas que nos interessam nesse momento são city_mpg, highway_mpg (consumo) length, width, height (dimensões) e horsepower (força do motor).\n",
    "1. Existe uma correlação significativa com a largura (width) de 0.75. Veja que uma correlação mais significativa ainda entre o preço e o peso (curb_weight) de 0.83 e com dimensões (engine_size) de 0.87 do motor são mais significativas, porém próximas. Em outras palavras, dizer que um carro mais largo é quase a mesma coisa de dizer que ele é mais pesado, o que por aproximação implica que ele pode ser mais caro;\n",
    "2. Existe uma correção significativa de -0.65 a -0.71 (na cidade e nas rodovias, respectivamente) entre consumo e preço. O sinal negativo nesse caso significa que quanto mais econômico o veículo, mais caro ele é;\n",
    "3. A força do motor é quase tão significativa quanto o peso e as dimensões do motor, estando as 3 variáveis correlacionadas por um fator maior do que 0.8 com o preço.\n",
    "\n",
    "Arrisco a dizer que com o peso, o tamanho e a força do motor podemos determinar com mais do que 80% de certeza qual o preço do veículo."
   ]
  },
  {
   "cell_type": "markdown",
   "metadata": {},
   "source": [
    "**Pergunta:** Cite um exemplo de pelo menos os 3 cenários propostos que corroboram a leitura dos dados apresentados, justique sua resposta."
   ]
  },
  {
   "cell_type": "markdown",
   "metadata": {},
   "source": [
    "**Resposta:**"
   ]
  },
  {
   "cell_type": "markdown",
   "metadata": {},
   "source": [
    "## Preparação dos Dados"
   ]
  },
  {
   "cell_type": "markdown",
   "metadata": {},
   "source": [
    "### Identificação de Outliers Visualmente"
   ]
  },
  {
   "cell_type": "markdown",
   "metadata": {},
   "source": [
    "Utilize visualizações gráficas para encontrar outliers em todos os atributos deste dataset.\n",
    "Ainda não vamos remover ou atualizar os valores, por enquanto é uma análise exploratória.\n",
    "\n",
    "Lembre-se que cada atributo possui um valor e dimensão diferente, portanto comparações devem estar em uma mesma base, por exemplo, __price__ não pode ser comparado com __width__ pois os eixos __y__ estarão sem proporção."
   ]
  },
  {
   "cell_type": "code",
   "execution_count": 61,
   "metadata": {},
   "outputs": [],
   "source": [
    "numericos = automobile.select_dtypes(include=[np.number])\n",
    "\n",
    "def norm(dataset):\n",
    "    for coluna in dataset.columns.values:\n",
    "        dataset[coluna] = dataset[coluna].div(dataset[coluna].sum(), axis= 0)\n",
    "\n",
    "def plot(dataset):\n",
    "    fig, ax = plt.subplots()\n",
    "    fig.set_size_inches(18, 18)\n",
    "    sns.boxplot(ax= ax, data= dataset)\n",
    "    \n",
    "def norm_e_plot(colunas):\n",
    "    numericos_norm = numericos.copy()[colunas]\n",
    "    norm(numericos_norm)\n",
    "    plot(numericos_norm)"
   ]
  },
  {
   "cell_type": "code",
   "execution_count": 62,
   "metadata": {},
   "outputs": [
    {
     "data": {
      "image/png": "[encoded data removed]",
      "text/plain": [
       "<Figure size 1296x1296 with 1 Axes>"
      ]
     },
     "metadata": {},
     "output_type": "display_data"
    }
   ],
   "source": [
    "#IMPLEMENTAÇÃO\n",
    "norm_e_plot(numericos.columns.values)"
   ]
  },
  {
   "cell_type": "markdown",
   "metadata": {},
   "source": [
    "wheel_base, length, width, height, bore e stroke= ficariam melhores em um mesmo diagrama. Vamos normalizar essas colunas em um diagrama separado:"
   ]
  },
  {
   "cell_type": "code",
   "execution_count": 63,
   "metadata": {},
   "outputs": [
    {
     "data": {
      "image/png": "[encoded data removed]",
      "text/plain": [
       "<Figure size 1296x1296 with 1 Axes>"
      ]
     },
     "metadata": {},
     "output_type": "display_data"
    }
   ],
   "source": [
    "norm_e_plot([\"wheel_base\", \"length\", \"width\", \"height\", \"bore\", \"stroke\"])"
   ]
  },
  {
   "cell_type": "markdown",
   "metadata": {},
   "source": [
    "compression_ratio ficou estranho em ambos diagramas. Vamos plotá-lo aqui:"
   ]
  },
  {
   "cell_type": "code",
   "execution_count": 64,
   "metadata": {},
   "outputs": [
    {
     "data": {
      "image/png": "[encoded data removed]",
      "text/plain": [
       "<Figure size 1296x1296 with 1 Axes>"
      ]
     },
     "metadata": {},
     "output_type": "display_data"
    }
   ],
   "source": [
    "norm_e_plot([\"compression_ratio\"])"
   ]
  },
  {
   "cell_type": "markdown",
   "metadata": {},
   "source": [
    "Antes de explorar melhor as correlações, vamos analisar se há dados discrepante no conjunto de dados. Analisar os dados sem esta análise antes pode nos levar a algum viés indesejado."
   ]
  },
  {
   "cell_type": "markdown",
   "metadata": {},
   "source": [
    "### Análise de valores inválidos"
   ]
  },
  {
   "cell_type": "markdown",
   "metadata": {},
   "source": [
    "Analise e busque por valores considerados nulos."
   ]
  },
  {
   "cell_type": "code",
   "execution_count": 65,
   "metadata": {},
   "outputs": [
    {
     "name": "stdout",
     "output_type": "stream",
     "text": [
      "wheel_base           False\n",
      "length               False\n",
      "width                False\n",
      "height               False\n",
      "curb_weight          False\n",
      "engine_size          False\n",
      "bore                 False\n",
      "stroke               False\n",
      "compression_ratio    False\n",
      "horsepower           False\n",
      "peak_rpm              True\n",
      "city_mpg              True\n",
      "highway_mpg           True\n",
      "price                False\n",
      "dtype: bool\n"
     ]
    },
    {
     "data": {
      "text/html": [
       "<div>\n",
       "<style scoped>\n",
       "    .dataframe tbody tr th:only-of-type {\n",
       "        vertical-align: middle;\n",
       "    }\n",
       "\n",
       "    .dataframe tbody tr th {\n",
       "        vertical-align: top;\n",
       "    }\n",
       "\n",
       "    .dataframe thead th {\n",
       "        text-align: right;\n",
       "    }\n",
       "</style>\n",
       "<table border=\"1\" class=\"dataframe\">\n",
       "  <thead>\n",
       "    <tr style=\"text-align: right;\">\n",
       "      <th></th>\n",
       "      <th>wheel_base</th>\n",
       "      <th>length</th>\n",
       "      <th>width</th>\n",
       "      <th>height</th>\n",
       "      <th>curb_weight</th>\n",
       "      <th>engine_size</th>\n",
       "      <th>bore</th>\n",
       "      <th>stroke</th>\n",
       "      <th>compression_ratio</th>\n",
       "      <th>horsepower</th>\n",
       "      <th>peak_rpm</th>\n",
       "      <th>city_mpg</th>\n",
       "      <th>highway_mpg</th>\n",
       "      <th>price</th>\n",
       "    </tr>\n",
       "  </thead>\n",
       "  <tbody>\n",
       "    <tr>\n",
       "      <th>32</th>\n",
       "      <td>93.7</td>\n",
       "      <td>150.0</td>\n",
       "      <td>64.0</td>\n",
       "      <td>52.6</td>\n",
       "      <td>1940</td>\n",
       "      <td>92</td>\n",
       "      <td>2.91</td>\n",
       "      <td>3.41</td>\n",
       "      <td>9.2</td>\n",
       "      <td>76</td>\n",
       "      <td>0.0</td>\n",
       "      <td>30.0</td>\n",
       "      <td>NaN</td>\n",
       "      <td>6529</td>\n",
       "    </tr>\n",
       "    <tr>\n",
       "      <th>36</th>\n",
       "      <td>96.5</td>\n",
       "      <td>167.5</td>\n",
       "      <td>65.2</td>\n",
       "      <td>53.3</td>\n",
       "      <td>2236</td>\n",
       "      <td>110</td>\n",
       "      <td>3.15</td>\n",
       "      <td>3.58</td>\n",
       "      <td>9.0</td>\n",
       "      <td>86</td>\n",
       "      <td>5800.0</td>\n",
       "      <td>NaN</td>\n",
       "      <td>33.0</td>\n",
       "      <td>7895</td>\n",
       "    </tr>\n",
       "    <tr>\n",
       "      <th>136</th>\n",
       "      <td>93.3</td>\n",
       "      <td>157.3</td>\n",
       "      <td>63.8</td>\n",
       "      <td>55.7</td>\n",
       "      <td>2240</td>\n",
       "      <td>108</td>\n",
       "      <td>3.62</td>\n",
       "      <td>2.64</td>\n",
       "      <td>8.7</td>\n",
       "      <td>73</td>\n",
       "      <td>NaN</td>\n",
       "      <td>26.0</td>\n",
       "      <td>31.0</td>\n",
       "      <td>7603</td>\n",
       "    </tr>\n",
       "    <tr>\n",
       "      <th>184</th>\n",
       "      <td>97.3</td>\n",
       "      <td>171.7</td>\n",
       "      <td>65.5</td>\n",
       "      <td>55.7</td>\n",
       "      <td>2300</td>\n",
       "      <td>109</td>\n",
       "      <td>3.19</td>\n",
       "      <td>3.40</td>\n",
       "      <td>10.0</td>\n",
       "      <td>100</td>\n",
       "      <td>NaN</td>\n",
       "      <td>26.0</td>\n",
       "      <td>32.0</td>\n",
       "      <td>9995</td>\n",
       "    </tr>\n",
       "  </tbody>\n",
       "</table>\n",
       "</div>"
      ],
      "text/plain": [
       "     wheel_base  length  width  height  curb_weight  engine_size  bore  \\\n",
       "32         93.7   150.0   64.0    52.6         1940           92  2.91   \n",
       "36         96.5   167.5   65.2    53.3         2236          110  3.15   \n",
       "136        93.3   157.3   63.8    55.7         2240          108  3.62   \n",
       "184        97.3   171.7   65.5    55.7         2300          109  3.19   \n",
       "\n",
       "     stroke  compression_ratio  horsepower  peak_rpm  city_mpg  highway_mpg  \\\n",
       "32     3.41                9.2          76       0.0      30.0          NaN   \n",
       "36     3.58                9.0          86    5800.0       NaN         33.0   \n",
       "136    2.64                8.7          73       NaN      26.0         31.0   \n",
       "184    3.40               10.0         100       NaN      26.0         32.0   \n",
       "\n",
       "     price  \n",
       "32    6529  \n",
       "36    7895  \n",
       "136   7603  \n",
       "184   9995  "
      ]
     },
     "execution_count": 65,
     "metadata": {},
     "output_type": "execute_result"
    }
   ],
   "source": [
    "#IMPLEMENTAÇÃO\n",
    "print(numericos.isna().any())\n",
    "numericos[numericos.isna().any(axis= 1)]"
   ]
  },
  {
   "cell_type": "code",
   "execution_count": 66,
   "metadata": {},
   "outputs": [
    {
     "name": "stdout",
     "output_type": "stream",
     "text": [
      "Coluna: make, valores: ['alfa-romero', 'audi', 'bmw', 'chevrolet', 'dodge', 'honda', 'isuzu', 'jaguar', 'mazda', 'mercedes-benz', 'mercury', 'mitsubishi', 'nissan', 'peugot', 'plymouth', 'porsche', 'renault', 'saab', 'subaru', 'toyota', 'volkswagen', 'volvo']\n",
      "Coluna: fuel_type, valores: ['diesel', 'gas']\n",
      "Coluna: aspiration, valores: ['std', 'turbo']\n",
      "Coluna: number_of_doors, valores: ['four', 'two']\n",
      "Coluna: body_style, valores: ['convertible', 'hardtop', 'hatchback', 'sedan', 'wagon']\n",
      "Coluna: drive_wheels, valores: ['4wd', 'fwd', 'rwd']\n",
      "Coluna: engine_location, valores: ['front', 'rear']\n",
      "Coluna: engine_type, valores: ['dohc', 'l', 'ohc', 'ohcf', 'ohcv', 'rotor']\n",
      "Coluna: number_of_cylinders, valores: ['eight', 'five', 'four', 'six', 'three', 'twelve', 'two']\n",
      "Coluna: fuel_system, valores: ['1bbl', '2bbl', '4bbl', 'idi', 'mfi', 'mpfi', 'spdi', 'spfi']\n"
     ]
    }
   ],
   "source": [
    "#encontrando valores paramétricos únicos\n",
    "parametricos=automobile.select_dtypes(exclude=[np.number])\n",
    "for coluna in parametricos.columns.tolist():\n",
    "    print(\"Coluna: %s, valores: %s\" % (coluna, sorted(parametricos[coluna].unique())))\n"
   ]
  },
  {
   "cell_type": "markdown",
   "metadata": {},
   "source": [
    "Para os dados considerados nulos, realize a imputação de dados utilizando um valor apropriado (note que pode haver dados paramétricos e dados numéricos). Justique sua resposta."
   ]
  },
  {
   "cell_type": "markdown",
   "metadata": {},
   "source": [
    "__Resposta__: Após certa pesquisa, não encontrei uma fórmula que correlacione as colunas numéricas. É melhor remover valores inválidos (0 por exemplo) e NaN do dataset, pois podemos introduzir um viés indesejado nos cálculos, ao colocar um suposto valor nas colunas nulas, além de ser o método mais simples. No caso, temos apenas 4 linhas nulas, em um dataset com 200 entradas. "
   ]
  },
  {
   "cell_type": "markdown",
   "metadata": {},
   "source": [
    "Com relação aos valores paramétricos, não encontrei nenhum valor que pareça ser inválido."
   ]
  },
  {
   "cell_type": "code",
   "execution_count": 67,
   "metadata": {},
   "outputs": [],
   "source": [
    "#IMPLEMENTAÇÃO\n",
    "automobile = automobile.dropna()\n",
    "numericos = numericos.dropna()"
   ]
  },
  {
   "cell_type": "markdown",
   "metadata": {},
   "source": [
    "### Análise de valores com valores iguais a 0"
   ]
  },
  {
   "cell_type": "markdown",
   "metadata": {},
   "source": [
    "Analise se no conjunto de dados há valores iguais a 0 e verifique se faz parte do contexto. Caso não faça parte do contexto, utilize alguma técnica de imputação de dados apropriada.\n",
    "\n",
    "Inspecione o dataset por dados iguais a 0."
   ]
  },
  {
   "cell_type": "code",
   "execution_count": 68,
   "metadata": {},
   "outputs": [
    {
     "name": "stdout",
     "output_type": "stream",
     "text": [
      "wheel_base           False\n",
      "length               False\n",
      "width                False\n",
      "height               False\n",
      "curb_weight          False\n",
      "engine_size          False\n",
      "bore                 False\n",
      "stroke               False\n",
      "compression_ratio    False\n",
      "horsepower           False\n",
      "peak_rpm              True\n",
      "city_mpg              True\n",
      "highway_mpg           True\n",
      "price                False\n",
      "dtype: bool\n"
     ]
    },
    {
     "data": {
      "text/html": [
       "<div>\n",
       "<style scoped>\n",
       "    .dataframe tbody tr th:only-of-type {\n",
       "        vertical-align: middle;\n",
       "    }\n",
       "\n",
       "    .dataframe tbody tr th {\n",
       "        vertical-align: top;\n",
       "    }\n",
       "\n",
       "    .dataframe thead th {\n",
       "        text-align: right;\n",
       "    }\n",
       "</style>\n",
       "<table border=\"1\" class=\"dataframe\">\n",
       "  <thead>\n",
       "    <tr style=\"text-align: right;\">\n",
       "      <th></th>\n",
       "      <th>wheel_base</th>\n",
       "      <th>length</th>\n",
       "      <th>width</th>\n",
       "      <th>height</th>\n",
       "      <th>curb_weight</th>\n",
       "      <th>engine_size</th>\n",
       "      <th>bore</th>\n",
       "      <th>stroke</th>\n",
       "      <th>compression_ratio</th>\n",
       "      <th>horsepower</th>\n",
       "      <th>peak_rpm</th>\n",
       "      <th>city_mpg</th>\n",
       "      <th>highway_mpg</th>\n",
       "      <th>price</th>\n",
       "    </tr>\n",
       "  </thead>\n",
       "  <tbody>\n",
       "    <tr>\n",
       "      <th>35</th>\n",
       "      <td>96.5</td>\n",
       "      <td>157.1</td>\n",
       "      <td>63.9</td>\n",
       "      <td>58.3</td>\n",
       "      <td>2024</td>\n",
       "      <td>92</td>\n",
       "      <td>2.92</td>\n",
       "      <td>3.41</td>\n",
       "      <td>9.2</td>\n",
       "      <td>76</td>\n",
       "      <td>0.0</td>\n",
       "      <td>30.0</td>\n",
       "      <td>34.0</td>\n",
       "      <td>7295</td>\n",
       "    </tr>\n",
       "    <tr>\n",
       "      <th>66</th>\n",
       "      <td>106.7</td>\n",
       "      <td>187.5</td>\n",
       "      <td>70.3</td>\n",
       "      <td>54.9</td>\n",
       "      <td>3495</td>\n",
       "      <td>183</td>\n",
       "      <td>3.58</td>\n",
       "      <td>3.64</td>\n",
       "      <td>21.5</td>\n",
       "      <td>123</td>\n",
       "      <td>4350.0</td>\n",
       "      <td>0.0</td>\n",
       "      <td>25.0</td>\n",
       "      <td>28176</td>\n",
       "    </tr>\n",
       "    <tr>\n",
       "      <th>67</th>\n",
       "      <td>115.6</td>\n",
       "      <td>202.6</td>\n",
       "      <td>71.7</td>\n",
       "      <td>56.3</td>\n",
       "      <td>3770</td>\n",
       "      <td>183</td>\n",
       "      <td>3.58</td>\n",
       "      <td>3.64</td>\n",
       "      <td>21.5</td>\n",
       "      <td>123</td>\n",
       "      <td>4350.0</td>\n",
       "      <td>22.0</td>\n",
       "      <td>0.0</td>\n",
       "      <td>31600</td>\n",
       "    </tr>\n",
       "    <tr>\n",
       "      <th>181</th>\n",
       "      <td>97.3</td>\n",
       "      <td>171.7</td>\n",
       "      <td>65.5</td>\n",
       "      <td>55.7</td>\n",
       "      <td>2212</td>\n",
       "      <td>109</td>\n",
       "      <td>3.19</td>\n",
       "      <td>3.40</td>\n",
       "      <td>9.0</td>\n",
       "      <td>85</td>\n",
       "      <td>5250.0</td>\n",
       "      <td>0.0</td>\n",
       "      <td>34.0</td>\n",
       "      <td>8195</td>\n",
       "    </tr>\n",
       "  </tbody>\n",
       "</table>\n",
       "</div>"
      ],
      "text/plain": [
       "     wheel_base  length  width  height  curb_weight  engine_size  bore  \\\n",
       "35         96.5   157.1   63.9    58.3         2024           92  2.92   \n",
       "66        106.7   187.5   70.3    54.9         3495          183  3.58   \n",
       "67        115.6   202.6   71.7    56.3         3770          183  3.58   \n",
       "181        97.3   171.7   65.5    55.7         2212          109  3.19   \n",
       "\n",
       "     stroke  compression_ratio  horsepower  peak_rpm  city_mpg  highway_mpg  \\\n",
       "35     3.41                9.2          76       0.0      30.0         34.0   \n",
       "66     3.64               21.5         123    4350.0       0.0         25.0   \n",
       "67     3.64               21.5         123    4350.0      22.0          0.0   \n",
       "181    3.40                9.0          85    5250.0       0.0         34.0   \n",
       "\n",
       "     price  \n",
       "35    7295  \n",
       "66   28176  \n",
       "67   31600  \n",
       "181   8195  "
      ]
     },
     "execution_count": 68,
     "metadata": {},
     "output_type": "execute_result"
    }
   ],
   "source": [
    "#IMPLEMENTAÇÃO\n",
    "print((numericos==0).any())\n",
    "numericos[(numericos==0).any(axis= 1)]"
   ]
  },
  {
   "cell_type": "markdown",
   "metadata": {},
   "source": [
    "Dessa forma constatamos que as colunas com zero são peak_rpm, city_mpg, e highway_mpg."
   ]
  },
  {
   "cell_type": "markdown",
   "metadata": {},
   "source": [
    "A imputação de dados pode seguir algum padrão dos demais exemplos ou pode ser simplesmente atribuído um valor. Avalie tais condições de acordo com as inspeções de dados."
   ]
  },
  {
   "cell_type": "markdown",
   "metadata": {},
   "source": [
    "Novamente notamos que as colunas com valor 0 são as mesmas que tinham valores NaN. Vou proceder com a mesma estratégia de antes, e apagar as entradas com 0."
   ]
  },
  {
   "cell_type": "code",
   "execution_count": 69,
   "metadata": {},
   "outputs": [
    {
     "data": {
      "text/plain": [
       "(193, 24)"
      ]
     },
     "execution_count": 69,
     "metadata": {},
     "output_type": "execute_result"
    }
   ],
   "source": [
    "#IMPLEMENTAÇÃO\n",
    "index_zeros = [35, 66, 67, 181]\n",
    "automobile = automobile.drop(index=index_zeros)\n",
    "numericos = numericos.drop(index=index_zeros)\n",
    "automobile.shape\n"
   ]
  },
  {
   "cell_type": "markdown",
   "metadata": {},
   "source": [
    "### Análise Numérica de Outliers"
   ]
  },
  {
   "cell_type": "markdown",
   "metadata": {},
   "source": [
    "Da análise visual de outliers realizada acima vamos utilizar uma métrica de verificação mais apropriada e objetiva afim de criar um patamar aceitável de dados não discrepantes.\n",
    "\n",
    "Neste projeto vamos considerar [o Método Turco para identificar discrepantes](http://datapigtechnologies.com/blog/index.php/highlighting-outliers-in-your-data-with-the-tukey-method/), que utiliza um __passo de limite__ que é 5 vezes (em nosso projeto) a diferença entre o terceiro (Q3) e o primeiro quartil (Q1). Deste modo, valores que sejam maiores que o Q3 + passo de limite ou menor Q1 - passo de limite sejam sinalizados como outliers.\n",
    "\n",
    "Construa uma função que receba como parâmetro de entrada um série de dados e exiba os valores discrepantes. Utilize o boilerplate abaixo para completar as instruções faltantes.\n",
    "\n",
    "*Dica: utilize a função do Numpy de percentil, np.percentile(serie, 25) para quartil 1 e np.percentile(serie, 75) para quartil 3.*"
   ]
  },
  {
   "cell_type": "code",
   "execution_count": 70,
   "metadata": {},
   "outputs": [],
   "source": [
    "def identificacao_outlier(df, column_name): \n",
    "    print(column_name)\n",
    "    \n",
    "    #IMPLEMENTAÇÃO\n",
    "    quartil_1 = np.percentile(df[column_name], 25)\n",
    "    mediana = np.median(df[column_name])\n",
    "    quartil_3 = np.percentile(df[column_name], 75)\n",
    "    passo = 5 * (quartil_3 - quartil_1)\n",
    "    limite_inferior = quartil_1 - passo\n",
    "    limite_superior = quartil_3 + passo\n",
    "\n",
    "    outliers = df[column_name][((limite_inferior > df[column_name]) | (df[column_name] > limite_superior))].tolist()\n",
    "     \n",
    "    print(\"Limite Inferior: %d; mediana: %d; limite superior: %d\" % (limite_inferior, mediana, limite_superior))\n",
    "    print(\"Outliers: %s\" % outliers)\n",
    "    print()"
   ]
  },
  {
   "cell_type": "code",
   "execution_count": 71,
   "metadata": {},
   "outputs": [
    {
     "name": "stdout",
     "output_type": "stream",
     "text": [
      "wheel_base\n",
      "Limite Inferior: 54; mediana: 97; limite superior: 141\n",
      "Outliers: []\n",
      "\n",
      "length\n",
      "Limite Inferior: 83; mediana: 173; limite superior: 266\n",
      "Outliers: []\n",
      "\n",
      "width\n",
      "Limite Inferior: 52; mediana: 65; limite superior: 78\n",
      "Outliers: []\n",
      "\n",
      "height\n",
      "Limite Inferior: 34; mediana: 54; limite superior: 73\n",
      "Outliers: []\n",
      "\n",
      "curb_weight\n",
      "Limite Inferior: -1616; mediana: 2425; limite superior: 6711\n",
      "Outliers: []\n",
      "\n",
      "engine_size\n",
      "Limite Inferior: -117; mediana: 120; limite superior: 356\n",
      "Outliers: []\n",
      "\n",
      "bore\n",
      "Limite Inferior: 0; mediana: 3; limite superior: 5\n",
      "Outliers: []\n",
      "\n",
      "stroke\n",
      "Limite Inferior: 1; mediana: 3; limite superior: 4\n",
      "Outliers: []\n",
      "\n",
      "compression_ratio\n",
      "Limite Inferior: 3; mediana: 9; limite superior: 13\n",
      "Outliers: [22.7, 22.0, 21.5, 21.5, 21.9, 21.0, 21.0, 21.0, 21.0, 21.0, 22.5, 22.5, 22.5, 23.0, 23.0, 23.0, 23.0, 23.0]\n",
      "\n",
      "horsepower\n",
      "Limite Inferior: -160; mediana: 95; limite superior: 346\n",
      "Outliers: []\n",
      "\n",
      "peak_rpm\n",
      "Limite Inferior: 1300; mediana: 5200; limite superior: 9000\n",
      "Outliers: []\n",
      "\n",
      "city_mpg\n",
      "Limite Inferior: -36; mediana: 24; limite superior: 85\n",
      "Outliers: []\n",
      "\n",
      "highway_mpg\n",
      "Limite Inferior: -30; mediana: 30; limite superior: 91\n",
      "Outliers: []\n",
      "\n",
      "price\n",
      "Limite Inferior: -35772; mediana: 10595; limite superior: 60060\n",
      "Outliers: []\n",
      "\n"
     ]
    }
   ],
   "source": [
    "for column in numericos.columns.tolist():\n",
    "    identificacao_outlier(numericos, column)"
   ]
  },
  {
   "cell_type": "markdown",
   "metadata": {},
   "source": [
    "**Pergunta:** Houve dados discrepantes localizados pela metodologia sugerida? Quais foram os atributos discretpantes e quais as hipótese de serem discrepantes? Qual foi a sua conclusão, são realmente dados que devem ser removidos ou mantidos? Justifique.\n",
    "\n",
    "**Resposta:** A taxa de compressão foi o único atributo que mostrou valores discrepantes usando o critério apresentado. Observando os valores discrepantes, parece que ocorreram por uma erro de digitação da casa decimal. A quantidade desses valores é de cerca de 10% da amostra, uma quantia considerável. Vamos testar a alteração desses valores e analisar o comportamento:\n"
   ]
  },
  {
   "cell_type": "code",
   "execution_count": 72,
   "metadata": {},
   "outputs": [],
   "source": [
    "compressao_errada = [22.7, 22.0, 21.5, 21.5, 21.9, 21.0, 21.0, 21.0, 21.0, 21.0, 22.5, 22.5, 22.5, 23.0, 23.0, 23.0, 23.0, 23.0]\n",
    "compressao_certa = [2.27, 2.2, 2.15, 2.15, 2.19, 2.1, 2.1, 2.1, 2.1, 2.1, 2.25, 2.25, 2.25, 2.3, 2.3, 2.3, 2.3, 2.3]"
   ]
  },
  {
   "cell_type": "code",
   "execution_count": 73,
   "metadata": {},
   "outputs": [
    {
     "name": "stdout",
     "output_type": "stream",
     "text": [
      "compression_ratio\n",
      "Limite Inferior: 3; mediana: 9; limite superior: 14\n",
      "Outliers: [2.27, 2.2, 2.15, 2.15, 2.19, 2.1, 2.1, 2.1, 2.1, 2.1, 2.25, 2.25, 2.25, 2.3, 2.3, 2.3, 2.3, 2.3]\n",
      "\n"
     ]
    }
   ],
   "source": [
    "automobile[\"compression_ratio\"] = automobile[\"compression_ratio\"].replace(to_replace=compressao_errada, value=compressao_certa)\n",
    "numericos[\"compression_ratio\"] = numericos[\"compression_ratio\"].replace(to_replace=compressao_errada, value=compressao_certa)\n",
    "identificacao_outlier(numericos, \"compression_ratio\")"
   ]
  },
  {
   "cell_type": "markdown",
   "metadata": {},
   "source": [
    "Entretanto, podemos notar que mesmo alterando os valores para aqueles que seriam corretos, percebe-se que no frigir dos ovos não faz diferença, já que não houve alteração no limite inferior e consequentemente os valores continuaram fora das contas.\n",
    "O que talvez influencie seja o limite superior (3º quartil) que aumentou um pouco, ou seja, o modelo conseguiria com essa alteração prever um intervalo \"um pouco maior\" de Taxa de Compressão.\n",
    "Porém, para as nossas análises não consideramos que o aumento seja significativo.\n",
    "Por desencargo de consciência, vamos corrigir o dataset para os valores supostamente corretos."
   ]
  },
  {
   "cell_type": "markdown",
   "metadata": {},
   "source": [
    "### Mapeamento de Dados Paramétricos"
   ]
  },
  {
   "cell_type": "markdown",
   "metadata": {},
   "source": [
    "Os algoritmos de aprendizado de máquina precisam receber dados que sejam inteiramente numéricos. Dados que representam uma classificação como por exemplo um tipo de carro, como sedan ou hatchback, deve ser convertido em um valor numérico associado, como por exemplo 1 ou 2.\n",
    "\n",
    "Crie uma função que receba uma lista única e retorne um dicionário com a categoria e um código numérico crescente e incremental para posteriormente utilizarmos como mapeamento."
   ]
  },
  {
   "cell_type": "code",
   "execution_count": 74,
   "metadata": {},
   "outputs": [],
   "source": [
    "#IMPLEMENTAÇÃO\n",
    "\n",
    "def mapear_serie(serie):\n",
    "    dict_gen = {}\n",
    "    \n",
    "    #IMPLEMENTAÇÃO\n",
    "    colunas = serie.unique()\n",
    "    i = 0\n",
    "    for coluna in colunas:\n",
    "        if coluna not in dict_gen:\n",
    "            dict_gen[coluna] = i\n",
    "            i += 1\n",
    "        \n",
    "    return dict_gen"
   ]
  },
  {
   "cell_type": "markdown",
   "metadata": {},
   "source": [
    "Com a funcão criada, crie dicionários para cada coluna paramétrica. Lembre-se que é necessário passar somente valores únicos.\n",
    "\n",
    "*Dica: utilize a função unique() do dataframe para obter valores únicos de uma determinada série (ou coluna).*"
   ]
  },
  {
   "cell_type": "code",
   "execution_count": 75,
   "metadata": {},
   "outputs": [
    {
     "name": "stdout",
     "output_type": "stream",
     "text": [
      "make\n",
      "{'alfa-romero': 0, 'audi': 1, 'bmw': 2, 'chevrolet': 3, 'dodge': 4, 'honda': 5, 'isuzu': 6, 'jaguar': 7, 'mazda': 8, 'mercedes-benz': 9, 'mercury': 10, 'mitsubishi': 11, 'nissan': 12, 'peugot': 13, 'plymouth': 14, 'porsche': 15, 'renault': 16, 'saab': 17, 'subaru': 18, 'toyota': 19, 'volkswagen': 20, 'volvo': 21}\n",
      "\n",
      "fuel_type\n",
      "{'gas': 0, 'diesel': 1}\n",
      "\n",
      "aspiration\n",
      "{'std': 0, 'turbo': 1}\n",
      "\n",
      "number_of_doors\n",
      "{'two': 0, 'four': 1}\n",
      "\n",
      "body_style\n",
      "{'convertible': 0, 'hatchback': 1, 'sedan': 2, 'wagon': 3, 'hardtop': 4}\n",
      "\n",
      "drive_wheels\n",
      "{'rwd': 0, 'fwd': 1, '4wd': 2}\n",
      "\n",
      "engine_location\n",
      "{'front': 0, 'rear': 1}\n",
      "\n",
      "engine_type\n",
      "{'dohc': 0, 'ohcv': 1, 'ohc': 2, 'l': 3, 'rotor': 4, 'ohcf': 5}\n",
      "\n",
      "number_of_cylinders\n",
      "{'four': 0, 'six': 1, 'five': 2, 'three': 3, 'twelve': 4, 'two': 5, 'eight': 6}\n",
      "\n",
      "fuel_system\n",
      "{'mpfi': 0, '2bbl': 1, 'mfi': 2, '1bbl': 3, 'spfi': 4, '4bbl': 5, 'idi': 6, 'spdi': 7}\n",
      "\n"
     ]
    }
   ],
   "source": [
    "# IMPLEMENTAÇÃO \n",
    "parametricos = automobile.select_dtypes(exclude=[np.number])\n",
    "colunas = parametricos.columns.tolist()\n",
    "tabelinha = {}\n",
    "for coluna in colunas:\n",
    "    mapeamento = mapear_serie(parametricos[coluna])\n",
    "    tabelinha[coluna] = mapeamento\n",
    "    print(coluna)\n",
    "    print(mapeamento)\n",
    "    print()\n",
    "\n",
    "#Agora a gente vai trocar as colunas paramétricas por numéricas...\n",
    "for coluna, mapeamento in tabelinha.items():\n",
    "      automobile[coluna] = automobile[coluna].replace(to_replace= mapeamento.keys(), value= mapeamento.values())"
   ]
  },
  {
   "cell_type": "markdown",
   "metadata": {},
   "source": [
    "Até este momento seu conjunto de dados não deve conter nenhum dado paramétrico. Todos os dados armazenados com valores como texto, por exemplo, \"diese\", \"gas\" deve estar preenchido com valores numéricos, como 1 ou 2.\n",
    "\n",
    "Inspecione seus dados e certifique de que tudo está certo.\n",
    "\n",
    "*Dica: utilize uma inspeção simples visual, com 20 amostras.*"
   ]
  },
  {
   "cell_type": "code",
   "execution_count": 76,
   "metadata": {},
   "outputs": [
    {
     "name": "stdout",
     "output_type": "stream",
     "text": [
      "Empty DataFrame\n",
      "Columns: []\n",
      "Index: [0, 1, 2, 3, 4]\n"
     ]
    },
    {
     "data": {
      "text/html": [
       "<div>\n",
       "<style scoped>\n",
       "    .dataframe tbody tr th:only-of-type {\n",
       "        vertical-align: middle;\n",
       "    }\n",
       "\n",
       "    .dataframe tbody tr th {\n",
       "        vertical-align: top;\n",
       "    }\n",
       "\n",
       "    .dataframe thead th {\n",
       "        text-align: right;\n",
       "    }\n",
       "</style>\n",
       "<table border=\"1\" class=\"dataframe\">\n",
       "  <thead>\n",
       "    <tr style=\"text-align: right;\">\n",
       "      <th></th>\n",
       "      <th>make</th>\n",
       "      <th>fuel_type</th>\n",
       "      <th>aspiration</th>\n",
       "      <th>number_of_doors</th>\n",
       "      <th>body_style</th>\n",
       "      <th>drive_wheels</th>\n",
       "      <th>engine_location</th>\n",
       "      <th>wheel_base</th>\n",
       "      <th>length</th>\n",
       "      <th>width</th>\n",
       "      <th>...</th>\n",
       "      <th>engine_size</th>\n",
       "      <th>fuel_system</th>\n",
       "      <th>bore</th>\n",
       "      <th>stroke</th>\n",
       "      <th>compression_ratio</th>\n",
       "      <th>horsepower</th>\n",
       "      <th>peak_rpm</th>\n",
       "      <th>city_mpg</th>\n",
       "      <th>highway_mpg</th>\n",
       "      <th>price</th>\n",
       "    </tr>\n",
       "  </thead>\n",
       "  <tbody>\n",
       "    <tr>\n",
       "      <th>0</th>\n",
       "      <td>0</td>\n",
       "      <td>0</td>\n",
       "      <td>0</td>\n",
       "      <td>0</td>\n",
       "      <td>0</td>\n",
       "      <td>0</td>\n",
       "      <td>0</td>\n",
       "      <td>88.6</td>\n",
       "      <td>168.8</td>\n",
       "      <td>64.1</td>\n",
       "      <td>...</td>\n",
       "      <td>130</td>\n",
       "      <td>0</td>\n",
       "      <td>3.47</td>\n",
       "      <td>2.68</td>\n",
       "      <td>9.0</td>\n",
       "      <td>111</td>\n",
       "      <td>5000.0</td>\n",
       "      <td>21.0</td>\n",
       "      <td>27.0</td>\n",
       "      <td>13495</td>\n",
       "    </tr>\n",
       "    <tr>\n",
       "      <th>1</th>\n",
       "      <td>0</td>\n",
       "      <td>0</td>\n",
       "      <td>0</td>\n",
       "      <td>0</td>\n",
       "      <td>0</td>\n",
       "      <td>0</td>\n",
       "      <td>0</td>\n",
       "      <td>88.6</td>\n",
       "      <td>168.8</td>\n",
       "      <td>64.1</td>\n",
       "      <td>...</td>\n",
       "      <td>130</td>\n",
       "      <td>0</td>\n",
       "      <td>3.47</td>\n",
       "      <td>2.68</td>\n",
       "      <td>9.0</td>\n",
       "      <td>111</td>\n",
       "      <td>5000.0</td>\n",
       "      <td>21.0</td>\n",
       "      <td>27.0</td>\n",
       "      <td>16500</td>\n",
       "    </tr>\n",
       "    <tr>\n",
       "      <th>2</th>\n",
       "      <td>0</td>\n",
       "      <td>0</td>\n",
       "      <td>0</td>\n",
       "      <td>0</td>\n",
       "      <td>1</td>\n",
       "      <td>0</td>\n",
       "      <td>0</td>\n",
       "      <td>94.5</td>\n",
       "      <td>171.2</td>\n",
       "      <td>65.5</td>\n",
       "      <td>...</td>\n",
       "      <td>152</td>\n",
       "      <td>0</td>\n",
       "      <td>2.68</td>\n",
       "      <td>3.47</td>\n",
       "      <td>9.0</td>\n",
       "      <td>154</td>\n",
       "      <td>5000.0</td>\n",
       "      <td>19.0</td>\n",
       "      <td>26.0</td>\n",
       "      <td>16500</td>\n",
       "    </tr>\n",
       "    <tr>\n",
       "      <th>3</th>\n",
       "      <td>1</td>\n",
       "      <td>0</td>\n",
       "      <td>0</td>\n",
       "      <td>1</td>\n",
       "      <td>2</td>\n",
       "      <td>1</td>\n",
       "      <td>0</td>\n",
       "      <td>99.8</td>\n",
       "      <td>176.6</td>\n",
       "      <td>66.2</td>\n",
       "      <td>...</td>\n",
       "      <td>109</td>\n",
       "      <td>0</td>\n",
       "      <td>3.19</td>\n",
       "      <td>3.40</td>\n",
       "      <td>10.0</td>\n",
       "      <td>102</td>\n",
       "      <td>5500.0</td>\n",
       "      <td>24.0</td>\n",
       "      <td>30.0</td>\n",
       "      <td>13950</td>\n",
       "    </tr>\n",
       "    <tr>\n",
       "      <th>4</th>\n",
       "      <td>1</td>\n",
       "      <td>0</td>\n",
       "      <td>0</td>\n",
       "      <td>1</td>\n",
       "      <td>2</td>\n",
       "      <td>2</td>\n",
       "      <td>0</td>\n",
       "      <td>99.4</td>\n",
       "      <td>176.6</td>\n",
       "      <td>66.4</td>\n",
       "      <td>...</td>\n",
       "      <td>136</td>\n",
       "      <td>0</td>\n",
       "      <td>3.19</td>\n",
       "      <td>3.40</td>\n",
       "      <td>8.0</td>\n",
       "      <td>115</td>\n",
       "      <td>5500.0</td>\n",
       "      <td>18.0</td>\n",
       "      <td>22.0</td>\n",
       "      <td>17450</td>\n",
       "    </tr>\n",
       "    <tr>\n",
       "      <th>5</th>\n",
       "      <td>1</td>\n",
       "      <td>0</td>\n",
       "      <td>0</td>\n",
       "      <td>0</td>\n",
       "      <td>2</td>\n",
       "      <td>1</td>\n",
       "      <td>0</td>\n",
       "      <td>99.8</td>\n",
       "      <td>177.3</td>\n",
       "      <td>66.3</td>\n",
       "      <td>...</td>\n",
       "      <td>136</td>\n",
       "      <td>0</td>\n",
       "      <td>3.19</td>\n",
       "      <td>3.40</td>\n",
       "      <td>8.5</td>\n",
       "      <td>110</td>\n",
       "      <td>5500.0</td>\n",
       "      <td>19.0</td>\n",
       "      <td>25.0</td>\n",
       "      <td>15250</td>\n",
       "    </tr>\n",
       "    <tr>\n",
       "      <th>6</th>\n",
       "      <td>1</td>\n",
       "      <td>0</td>\n",
       "      <td>0</td>\n",
       "      <td>1</td>\n",
       "      <td>2</td>\n",
       "      <td>1</td>\n",
       "      <td>0</td>\n",
       "      <td>105.8</td>\n",
       "      <td>192.7</td>\n",
       "      <td>71.4</td>\n",
       "      <td>...</td>\n",
       "      <td>136</td>\n",
       "      <td>0</td>\n",
       "      <td>3.19</td>\n",
       "      <td>3.40</td>\n",
       "      <td>8.5</td>\n",
       "      <td>110</td>\n",
       "      <td>5500.0</td>\n",
       "      <td>19.0</td>\n",
       "      <td>25.0</td>\n",
       "      <td>17710</td>\n",
       "    </tr>\n",
       "    <tr>\n",
       "      <th>7</th>\n",
       "      <td>1</td>\n",
       "      <td>0</td>\n",
       "      <td>0</td>\n",
       "      <td>1</td>\n",
       "      <td>3</td>\n",
       "      <td>1</td>\n",
       "      <td>0</td>\n",
       "      <td>105.8</td>\n",
       "      <td>192.7</td>\n",
       "      <td>71.4</td>\n",
       "      <td>...</td>\n",
       "      <td>136</td>\n",
       "      <td>0</td>\n",
       "      <td>3.19</td>\n",
       "      <td>3.40</td>\n",
       "      <td>8.5</td>\n",
       "      <td>110</td>\n",
       "      <td>5500.0</td>\n",
       "      <td>19.0</td>\n",
       "      <td>25.0</td>\n",
       "      <td>18920</td>\n",
       "    </tr>\n",
       "    <tr>\n",
       "      <th>8</th>\n",
       "      <td>1</td>\n",
       "      <td>0</td>\n",
       "      <td>1</td>\n",
       "      <td>1</td>\n",
       "      <td>2</td>\n",
       "      <td>1</td>\n",
       "      <td>0</td>\n",
       "      <td>105.8</td>\n",
       "      <td>192.7</td>\n",
       "      <td>71.4</td>\n",
       "      <td>...</td>\n",
       "      <td>131</td>\n",
       "      <td>0</td>\n",
       "      <td>3.13</td>\n",
       "      <td>3.40</td>\n",
       "      <td>8.3</td>\n",
       "      <td>140</td>\n",
       "      <td>5500.0</td>\n",
       "      <td>17.0</td>\n",
       "      <td>20.0</td>\n",
       "      <td>23875</td>\n",
       "    </tr>\n",
       "    <tr>\n",
       "      <th>9</th>\n",
       "      <td>2</td>\n",
       "      <td>0</td>\n",
       "      <td>0</td>\n",
       "      <td>0</td>\n",
       "      <td>2</td>\n",
       "      <td>0</td>\n",
       "      <td>0</td>\n",
       "      <td>101.2</td>\n",
       "      <td>176.8</td>\n",
       "      <td>64.8</td>\n",
       "      <td>...</td>\n",
       "      <td>108</td>\n",
       "      <td>0</td>\n",
       "      <td>3.50</td>\n",
       "      <td>2.80</td>\n",
       "      <td>8.8</td>\n",
       "      <td>101</td>\n",
       "      <td>5800.0</td>\n",
       "      <td>23.0</td>\n",
       "      <td>29.0</td>\n",
       "      <td>16430</td>\n",
       "    </tr>\n",
       "    <tr>\n",
       "      <th>10</th>\n",
       "      <td>2</td>\n",
       "      <td>0</td>\n",
       "      <td>0</td>\n",
       "      <td>1</td>\n",
       "      <td>2</td>\n",
       "      <td>0</td>\n",
       "      <td>0</td>\n",
       "      <td>101.2</td>\n",
       "      <td>176.8</td>\n",
       "      <td>64.8</td>\n",
       "      <td>...</td>\n",
       "      <td>108</td>\n",
       "      <td>0</td>\n",
       "      <td>3.50</td>\n",
       "      <td>2.80</td>\n",
       "      <td>8.8</td>\n",
       "      <td>101</td>\n",
       "      <td>5800.0</td>\n",
       "      <td>23.0</td>\n",
       "      <td>29.0</td>\n",
       "      <td>16925</td>\n",
       "    </tr>\n",
       "    <tr>\n",
       "      <th>11</th>\n",
       "      <td>2</td>\n",
       "      <td>0</td>\n",
       "      <td>0</td>\n",
       "      <td>0</td>\n",
       "      <td>2</td>\n",
       "      <td>0</td>\n",
       "      <td>0</td>\n",
       "      <td>101.2</td>\n",
       "      <td>176.8</td>\n",
       "      <td>64.8</td>\n",
       "      <td>...</td>\n",
       "      <td>164</td>\n",
       "      <td>0</td>\n",
       "      <td>3.31</td>\n",
       "      <td>3.19</td>\n",
       "      <td>9.0</td>\n",
       "      <td>121</td>\n",
       "      <td>4250.0</td>\n",
       "      <td>21.0</td>\n",
       "      <td>28.0</td>\n",
       "      <td>20970</td>\n",
       "    </tr>\n",
       "    <tr>\n",
       "      <th>12</th>\n",
       "      <td>2</td>\n",
       "      <td>0</td>\n",
       "      <td>0</td>\n",
       "      <td>1</td>\n",
       "      <td>2</td>\n",
       "      <td>0</td>\n",
       "      <td>0</td>\n",
       "      <td>101.2</td>\n",
       "      <td>176.8</td>\n",
       "      <td>64.8</td>\n",
       "      <td>...</td>\n",
       "      <td>164</td>\n",
       "      <td>0</td>\n",
       "      <td>3.31</td>\n",
       "      <td>3.19</td>\n",
       "      <td>9.0</td>\n",
       "      <td>121</td>\n",
       "      <td>4250.0</td>\n",
       "      <td>21.0</td>\n",
       "      <td>28.0</td>\n",
       "      <td>21105</td>\n",
       "    </tr>\n",
       "    <tr>\n",
       "      <th>13</th>\n",
       "      <td>2</td>\n",
       "      <td>0</td>\n",
       "      <td>0</td>\n",
       "      <td>1</td>\n",
       "      <td>2</td>\n",
       "      <td>0</td>\n",
       "      <td>0</td>\n",
       "      <td>103.5</td>\n",
       "      <td>189.0</td>\n",
       "      <td>66.9</td>\n",
       "      <td>...</td>\n",
       "      <td>164</td>\n",
       "      <td>0</td>\n",
       "      <td>3.31</td>\n",
       "      <td>3.19</td>\n",
       "      <td>9.0</td>\n",
       "      <td>121</td>\n",
       "      <td>4250.0</td>\n",
       "      <td>20.0</td>\n",
       "      <td>25.0</td>\n",
       "      <td>24565</td>\n",
       "    </tr>\n",
       "    <tr>\n",
       "      <th>14</th>\n",
       "      <td>2</td>\n",
       "      <td>0</td>\n",
       "      <td>0</td>\n",
       "      <td>1</td>\n",
       "      <td>2</td>\n",
       "      <td>0</td>\n",
       "      <td>0</td>\n",
       "      <td>103.5</td>\n",
       "      <td>189.0</td>\n",
       "      <td>66.9</td>\n",
       "      <td>...</td>\n",
       "      <td>209</td>\n",
       "      <td>0</td>\n",
       "      <td>3.62</td>\n",
       "      <td>3.39</td>\n",
       "      <td>8.0</td>\n",
       "      <td>182</td>\n",
       "      <td>5400.0</td>\n",
       "      <td>16.0</td>\n",
       "      <td>22.0</td>\n",
       "      <td>30760</td>\n",
       "    </tr>\n",
       "    <tr>\n",
       "      <th>15</th>\n",
       "      <td>2</td>\n",
       "      <td>0</td>\n",
       "      <td>0</td>\n",
       "      <td>0</td>\n",
       "      <td>2</td>\n",
       "      <td>0</td>\n",
       "      <td>0</td>\n",
       "      <td>103.5</td>\n",
       "      <td>193.8</td>\n",
       "      <td>67.9</td>\n",
       "      <td>...</td>\n",
       "      <td>209</td>\n",
       "      <td>0</td>\n",
       "      <td>3.62</td>\n",
       "      <td>3.39</td>\n",
       "      <td>8.0</td>\n",
       "      <td>182</td>\n",
       "      <td>5400.0</td>\n",
       "      <td>16.0</td>\n",
       "      <td>22.0</td>\n",
       "      <td>41315</td>\n",
       "    </tr>\n",
       "    <tr>\n",
       "      <th>16</th>\n",
       "      <td>2</td>\n",
       "      <td>0</td>\n",
       "      <td>0</td>\n",
       "      <td>1</td>\n",
       "      <td>2</td>\n",
       "      <td>0</td>\n",
       "      <td>0</td>\n",
       "      <td>110.0</td>\n",
       "      <td>197.0</td>\n",
       "      <td>70.9</td>\n",
       "      <td>...</td>\n",
       "      <td>209</td>\n",
       "      <td>0</td>\n",
       "      <td>3.62</td>\n",
       "      <td>3.39</td>\n",
       "      <td>8.0</td>\n",
       "      <td>182</td>\n",
       "      <td>5400.0</td>\n",
       "      <td>15.0</td>\n",
       "      <td>20.0</td>\n",
       "      <td>36880</td>\n",
       "    </tr>\n",
       "    <tr>\n",
       "      <th>17</th>\n",
       "      <td>3</td>\n",
       "      <td>0</td>\n",
       "      <td>0</td>\n",
       "      <td>0</td>\n",
       "      <td>1</td>\n",
       "      <td>1</td>\n",
       "      <td>0</td>\n",
       "      <td>88.4</td>\n",
       "      <td>141.1</td>\n",
       "      <td>60.3</td>\n",
       "      <td>...</td>\n",
       "      <td>61</td>\n",
       "      <td>1</td>\n",
       "      <td>2.91</td>\n",
       "      <td>3.03</td>\n",
       "      <td>9.5</td>\n",
       "      <td>48</td>\n",
       "      <td>5100.0</td>\n",
       "      <td>47.0</td>\n",
       "      <td>53.0</td>\n",
       "      <td>5151</td>\n",
       "    </tr>\n",
       "    <tr>\n",
       "      <th>18</th>\n",
       "      <td>3</td>\n",
       "      <td>0</td>\n",
       "      <td>0</td>\n",
       "      <td>0</td>\n",
       "      <td>1</td>\n",
       "      <td>1</td>\n",
       "      <td>0</td>\n",
       "      <td>94.5</td>\n",
       "      <td>155.9</td>\n",
       "      <td>63.6</td>\n",
       "      <td>...</td>\n",
       "      <td>90</td>\n",
       "      <td>1</td>\n",
       "      <td>3.03</td>\n",
       "      <td>3.11</td>\n",
       "      <td>9.6</td>\n",
       "      <td>70</td>\n",
       "      <td>5400.0</td>\n",
       "      <td>38.0</td>\n",
       "      <td>43.0</td>\n",
       "      <td>6295</td>\n",
       "    </tr>\n",
       "    <tr>\n",
       "      <th>19</th>\n",
       "      <td>3</td>\n",
       "      <td>0</td>\n",
       "      <td>0</td>\n",
       "      <td>1</td>\n",
       "      <td>2</td>\n",
       "      <td>1</td>\n",
       "      <td>0</td>\n",
       "      <td>94.5</td>\n",
       "      <td>158.8</td>\n",
       "      <td>63.6</td>\n",
       "      <td>...</td>\n",
       "      <td>90</td>\n",
       "      <td>1</td>\n",
       "      <td>3.03</td>\n",
       "      <td>3.11</td>\n",
       "      <td>9.6</td>\n",
       "      <td>70</td>\n",
       "      <td>5400.0</td>\n",
       "      <td>38.0</td>\n",
       "      <td>43.0</td>\n",
       "      <td>6575</td>\n",
       "    </tr>\n",
       "  </tbody>\n",
       "</table>\n",
       "<p>20 rows × 24 columns</p>\n",
       "</div>"
      ],
      "text/plain": [
       "    make  fuel_type  aspiration  number_of_doors  body_style  drive_wheels  \\\n",
       "0      0          0           0                0           0             0   \n",
       "1      0          0           0                0           0             0   \n",
       "2      0          0           0                0           1             0   \n",
       "3      1          0           0                1           2             1   \n",
       "4      1          0           0                1           2             2   \n",
       "5      1          0           0                0           2             1   \n",
       "6      1          0           0                1           2             1   \n",
       "7      1          0           0                1           3             1   \n",
       "8      1          0           1                1           2             1   \n",
       "9      2          0           0                0           2             0   \n",
       "10     2          0           0                1           2             0   \n",
       "11     2          0           0                0           2             0   \n",
       "12     2          0           0                1           2             0   \n",
       "13     2          0           0                1           2             0   \n",
       "14     2          0           0                1           2             0   \n",
       "15     2          0           0                0           2             0   \n",
       "16     2          0           0                1           2             0   \n",
       "17     3          0           0                0           1             1   \n",
       "18     3          0           0                0           1             1   \n",
       "19     3          0           0                1           2             1   \n",
       "\n",
       "    engine_location  wheel_base  length  width  ...    engine_size  \\\n",
       "0                 0        88.6   168.8   64.1  ...            130   \n",
       "1                 0        88.6   168.8   64.1  ...            130   \n",
       "2                 0        94.5   171.2   65.5  ...            152   \n",
       "3                 0        99.8   176.6   66.2  ...            109   \n",
       "4                 0        99.4   176.6   66.4  ...            136   \n",
       "5                 0        99.8   177.3   66.3  ...            136   \n",
       "6                 0       105.8   192.7   71.4  ...            136   \n",
       "7                 0       105.8   192.7   71.4  ...            136   \n",
       "8                 0       105.8   192.7   71.4  ...            131   \n",
       "9                 0       101.2   176.8   64.8  ...            108   \n",
       "10                0       101.2   176.8   64.8  ...            108   \n",
       "11                0       101.2   176.8   64.8  ...            164   \n",
       "12                0       101.2   176.8   64.8  ...            164   \n",
       "13                0       103.5   189.0   66.9  ...            164   \n",
       "14                0       103.5   189.0   66.9  ...            209   \n",
       "15                0       103.5   193.8   67.9  ...            209   \n",
       "16                0       110.0   197.0   70.9  ...            209   \n",
       "17                0        88.4   141.1   60.3  ...             61   \n",
       "18                0        94.5   155.9   63.6  ...             90   \n",
       "19                0        94.5   158.8   63.6  ...             90   \n",
       "\n",
       "    fuel_system  bore  stroke  compression_ratio  horsepower  peak_rpm  \\\n",
       "0             0  3.47    2.68                9.0         111    5000.0   \n",
       "1             0  3.47    2.68                9.0         111    5000.0   \n",
       "2             0  2.68    3.47                9.0         154    5000.0   \n",
       "3             0  3.19    3.40               10.0         102    5500.0   \n",
       "4             0  3.19    3.40                8.0         115    5500.0   \n",
       "5             0  3.19    3.40                8.5         110    5500.0   \n",
       "6             0  3.19    3.40                8.5         110    5500.0   \n",
       "7             0  3.19    3.40                8.5         110    5500.0   \n",
       "8             0  3.13    3.40                8.3         140    5500.0   \n",
       "9             0  3.50    2.80                8.8         101    5800.0   \n",
       "10            0  3.50    2.80                8.8         101    5800.0   \n",
       "11            0  3.31    3.19                9.0         121    4250.0   \n",
       "12            0  3.31    3.19                9.0         121    4250.0   \n",
       "13            0  3.31    3.19                9.0         121    4250.0   \n",
       "14            0  3.62    3.39                8.0         182    5400.0   \n",
       "15            0  3.62    3.39                8.0         182    5400.0   \n",
       "16            0  3.62    3.39                8.0         182    5400.0   \n",
       "17            1  2.91    3.03                9.5          48    5100.0   \n",
       "18            1  3.03    3.11                9.6          70    5400.0   \n",
       "19            1  3.03    3.11                9.6          70    5400.0   \n",
       "\n",
       "    city_mpg  highway_mpg  price  \n",
       "0       21.0         27.0  13495  \n",
       "1       21.0         27.0  16500  \n",
       "2       19.0         26.0  16500  \n",
       "3       24.0         30.0  13950  \n",
       "4       18.0         22.0  17450  \n",
       "5       19.0         25.0  15250  \n",
       "6       19.0         25.0  17710  \n",
       "7       19.0         25.0  18920  \n",
       "8       17.0         20.0  23875  \n",
       "9       23.0         29.0  16430  \n",
       "10      23.0         29.0  16925  \n",
       "11      21.0         28.0  20970  \n",
       "12      21.0         28.0  21105  \n",
       "13      20.0         25.0  24565  \n",
       "14      16.0         22.0  30760  \n",
       "15      16.0         22.0  41315  \n",
       "16      15.0         20.0  36880  \n",
       "17      47.0         53.0   5151  \n",
       "18      38.0         43.0   6295  \n",
       "19      38.0         43.0   6575  \n",
       "\n",
       "[20 rows x 24 columns]"
      ]
     },
     "execution_count": 76,
     "metadata": {},
     "output_type": "execute_result"
    }
   ],
   "source": [
    "#IMPLEMENTAÇÃO\n",
    "print(automobile.select_dtypes(exclude=[np.number]).head())\n",
    "automobile.head(n=20)    \n"
   ]
  },
  {
   "cell_type": "markdown",
   "metadata": {},
   "source": [
    "## Desenvolvimento do Modelo"
   ]
  },
  {
   "cell_type": "markdown",
   "metadata": {},
   "source": [
    "O conjunto de dados que temos a nossa disposição indica a aplicação de um modelo voltado a regressão, ou seja, queremos prever um preço de um veículo dada certas condições. É um problema típico de predição de série numérica.\n",
    "\n",
    "Podemos aplicar quaisquer algoritmos de regressão existente que tenha aplicação de classificação, pois é de um domínio diferente.\n",
    "\n",
    "Iremos explorar 3 modelos de algoritmos de regressão para testar a performance de cada um deles. Ao final será eleito o que apresentar melhor performance de pontuação R2.\n",
    "\n",
    "Os algoritmos são:\n",
    "\n",
    "1. [Regressão Linear](http://scikit-learn.org/stable/auto_examples/linear_model/plot_ols.html)\n",
    "2. [Regressão de Árvore de Decisão](http://scikit-learn.org/stable/modules/generated/sklearn.tree.DecisionTreeRegressor.html)\n",
    "3. [Regressão Ridge](http://scikit-learn.org/stable/modules/linear_model.html#ridge-regression)"
   ]
  },
  {
   "cell_type": "markdown",
   "metadata": {},
   "source": [
    "**Pergunta:** Explique como cada modelo de regressão funciona, indicando pelo menos um caso de uso em cada um deles.\n",
    "\n",
    "**Resposta:**"
   ]
  },
  {
   "cell_type": "markdown",
   "metadata": {
    "collapsed": true
   },
   "source": [
    "Antes de partimos para o treinamento do modelo, precisaremos separar os dados em subconjuntos para permitir avaliar adequadamente o modelo.\n",
    "\n",
    "Uma boa razão de tamanho de conjunto de treinamento e testes é 80% e 20% ou ainda, 70% e 30%. O importante é não misturar dados de treinamento com os de teste para termos uma ideia melhor sobre a performance do modelo com dados previametne não treinados.\n",
    "\n",
    "Antes de separarmos os dados, a partir das análises realizadas anteriormente, quais seriam os atributos a serem utilizados e por qual motivo. Informe também qual seria o atributo preditor?"
   ]
  },
  {
   "cell_type": "code",
   "execution_count": 77,
   "metadata": {},
   "outputs": [
    {
     "name": "stdout",
     "output_type": "stream",
     "text": [
      "drive_wheels          -0.576665\n",
      "engine_location        0.341407\n",
      "wheel_base             0.561921\n",
      "length                 0.677082\n",
      "width                  0.735574\n",
      "curb_weight            0.824282\n",
      "number_of_cylinders    0.568365\n",
      "engine_size            0.870261\n",
      "bore                   0.537490\n",
      "horsepower             0.817542\n",
      "city_mpg              -0.691220\n",
      "highway_mpg           -0.704852\n",
      "price                  1.000000\n",
      "Name: price, dtype: float64\n"
     ]
    }
   ],
   "source": [
    "#IMPLEMENTAÇÃO\n",
    "corr_20 = automobile.corr()\n",
    "print(correlacao_20(corr_20, \"price\", 0.2))"
   ]
  },
  {
   "cell_type": "markdown",
   "metadata": {},
   "source": [
    "Não houve alteração significativa das correlações em relação à análise preliminar.\n",
    "Ao contrário do que podemos considerar bom senso, não se percebe correlação linear forte entre o modelo do carro e o preço.\n",
    "A mesma ordem de grandeza de correlação se manteve em relação ao tamanho do motor (engine_size) e ao seu peso (curb_weight).\n",
    "Portanto o atributo que irei aqui escolher é o engine_size."
   ]
  },
  {
   "cell_type": "markdown",
   "metadata": {},
   "source": [
    "Crie subsets de treinamento e teste utilizado uma razão adequada de tamanho.\n",
    "Utilze o ```train_test_split``` passando como parâmetros"
   ]
  },
  {
   "cell_type": "code",
   "execution_count": 116,
   "metadata": {},
   "outputs": [],
   "source": [
    "from sklearn.model_selection import train_test_split\n",
    "\n",
    "#IMPLEMENTAÇÃO\n",
    "features = ['engine_size', 'curb_weight', 'horsepower']\n",
    "#Fiz predição com outras features em conjunto com o engine_size, e a pontuação do R2 não foi boa.\n",
    "predito = ['price']\n",
    "\n",
    "X = automobile[features].values\n",
    "y = automobile[predito].values\n",
    "split_test_size = 0.30\n",
    "\n",
    "X_train, X_test, y_train, y_test = train_test_split(X, y, test_size = split_test_size, random_state = 42)\n"
   ]
  },
  {
   "cell_type": "markdown",
   "metadata": {},
   "source": [
    "Inspecione cada subconjunto de dados obtidos do ```train_test_split```. Note que nos conjuntos X devemos ter atributos, logo é esperado uma matriz com mais de uma coluna. Nos conjuntos y, é a classe de predição, logo é esperado apenas um atributo."
   ]
  },
  {
   "cell_type": "code",
   "execution_count": 117,
   "metadata": {},
   "outputs": [
    {
     "name": "stdout",
     "output_type": "stream",
     "text": [
      "[[ 164 2765  121]\n",
      " [ 258 4066  176]\n",
      " [ 171 2976  161]\n",
      " [ 173 3012  134]\n",
      " [ 141 3042  114]\n",
      " [ 181 3139  200]\n",
      " [  98 2191  102]\n",
      " [ 121 2658  110]\n",
      " [  97 2024   69]\n",
      " [ 181 3060  152]]\n",
      "(135, 3)\n"
     ]
    }
   ],
   "source": [
    "#IMPLEMENTAÇÃO\n",
    "#Inspeção de X_train\n",
    "print(X_train[0:10])\n",
    "print(X_train.shape)"
   ]
  },
  {
   "cell_type": "code",
   "execution_count": 118,
   "metadata": {},
   "outputs": [
    {
     "name": "stdout",
     "output_type": "stream",
     "text": [
      "[[21105]\n",
      " [32250]\n",
      " [16558]\n",
      " [21485]\n",
      " [16515]\n",
      " [19699]\n",
      " [ 8558]\n",
      " [11850]\n",
      " [ 7349]\n",
      " [13499]]\n",
      "(135, 1)\n"
     ]
    }
   ],
   "source": [
    "#IMPLEMENTAÇÃO\n",
    "#Inspeção de Y_train\n",
    "print(y_train[0:10])\n",
    "print(y_train.shape)\n"
   ]
  },
  {
   "cell_type": "markdown",
   "metadata": {},
   "source": [
    "Verifique também se a razão dos conjuntos está coerente com a divisão estabelecida. Para estes cálculos divia o número de itens do conjunto de treino pelo total e também o de testes pelo total."
   ]
  },
  {
   "cell_type": "code",
   "execution_count": 119,
   "metadata": {},
   "outputs": [
    {
     "name": "stdout",
     "output_type": "stream",
     "text": [
      "Percentual da amostra de treino em relação ao total: 0.699482\n",
      "Percentual da amostra de teste em relação ao total: 0.300518\n"
     ]
    }
   ],
   "source": [
    "#IMPLEMENTAÇÃO\n",
    "traino, lixo = X_train.shape\n",
    "teste, lixo = X_test.shape\n",
    "total, lixo = automobile.shape\n",
    "print(\"Percentual da amostra de treino em relação ao total: %f\" % (traino / total))\n",
    "print(\"Percentual da amostra de teste em relação ao total: %f\" % (teste / total))"
   ]
  },
  {
   "cell_type": "markdown",
   "metadata": {},
   "source": [
    "## Treinamento e teste do modelo\n",
    "\n",
    "Após separarmos os dados adequadamente, selecionar os atributos que irão compor como o modelo deve treinar e qual atributo deve perseguir, o próximo passo é treinar este modelo e verificar, pelos testes, sua performance.\n",
    "\n",
    "Este estudo também irá levar a escolhermos qual algoritmo devemos utilizar dentre os três selecionados neste ajuste.\n",
    "\n",
    "Para avaliarmos a performance dos modelos, vamos criar uma função que determinará a pontuação R2.\n",
    "\n",
    "Não esqueça de avaliar os conjuntos de dados de treino (```X_train```, ```y_train``` e de teste, ```X_test``` e ```y_test```)"
   ]
  },
  {
   "cell_type": "code",
   "execution_count": 82,
   "metadata": {},
   "outputs": [],
   "source": [
    "from sklearn.metrics import mean_squared_error, r2_score\n",
    "\n",
    "def pontuacao(modelo, X_test, y_test):\n",
    "    y_pred = modelo.predict(X_test)\n",
    "    print(\"%s R2 score: %.2f\" %(modelo,r2_score(y_test, y_pred)))"
   ]
  },
  {
   "cell_type": "markdown",
   "metadata": {},
   "source": [
    "### Regressão Linear\n",
    "\n",
    "Utilize para a variável preditora a função ```.ravel()``` para converter os dados no formato que o ```sklearn``` espera."
   ]
  },
  {
   "cell_type": "code",
   "execution_count": 120,
   "metadata": {},
   "outputs": [
    {
     "data": {
      "text/plain": [
       "LinearRegression(copy_X=True, fit_intercept=True, n_jobs=1, normalize=False)"
      ]
     },
     "execution_count": 120,
     "metadata": {},
     "output_type": "execute_result"
    }
   ],
   "source": [
    "from sklearn import linear_model\n",
    "\n",
    "lr_model = linear_model.LinearRegression()\n",
    "\n",
    "#IMPLEMENTAÇÃO\n",
    "lr_model.fit(X_train, y_train.ravel())\n"
   ]
  },
  {
   "cell_type": "markdown",
   "metadata": {},
   "source": [
    "Obténha a pontuação R2, utilizando a função ```pontuacao``` para os conjuntos de treino e de teste."
   ]
  },
  {
   "cell_type": "code",
   "execution_count": 125,
   "metadata": {},
   "outputs": [
    {
     "name": "stdout",
     "output_type": "stream",
     "text": [
      "LinearRegression(copy_X=True, fit_intercept=True, n_jobs=1, normalize=False) R2 score: 0.78\n",
      "LinearRegression(copy_X=True, fit_intercept=True, n_jobs=1, normalize=False) R2 score: 0.82\n"
     ]
    }
   ],
   "source": [
    "#IMPLEMENTAÇÃO\n",
    "pontuacao(lr_model, X_train, y_train)\n",
    "pontuacao(lr_model, X_test, y_test)\n"
   ]
  },
  {
   "cell_type": "markdown",
   "metadata": {},
   "source": [
    "### Regressão de árvore de Decisão"
   ]
  },
  {
   "cell_type": "code",
   "execution_count": 126,
   "metadata": {},
   "outputs": [
    {
     "data": {
      "text/plain": [
       "DecisionTreeRegressor(criterion='mse', max_depth=None, max_features=None,\n",
       "           max_leaf_nodes=None, min_impurity_decrease=0.0,\n",
       "           min_impurity_split=None, min_samples_leaf=1,\n",
       "           min_samples_split=2, min_weight_fraction_leaf=0.0,\n",
       "           presort=False, random_state=None, splitter='best')"
      ]
     },
     "execution_count": 126,
     "metadata": {},
     "output_type": "execute_result"
    }
   ],
   "source": [
    "from sklearn import tree\n",
    "\n",
    "dtr_model = tree.DecisionTreeRegressor()\n",
    "\n",
    "#IMPLEMENTAÇÃO\n",
    "dtr_model.fit(X_train, y_train.ravel())\n"
   ]
  },
  {
   "cell_type": "markdown",
   "metadata": {},
   "source": [
    "Obténha a pontuação R2, utilizando a função ```pontuacao``` para os conjuntos de treino e de teste."
   ]
  },
  {
   "cell_type": "code",
   "execution_count": 127,
   "metadata": {},
   "outputs": [
    {
     "name": "stdout",
     "output_type": "stream",
     "text": [
      "DecisionTreeRegressor(criterion='mse', max_depth=None, max_features=None,\n",
      "           max_leaf_nodes=None, min_impurity_decrease=0.0,\n",
      "           min_impurity_split=None, min_samples_leaf=1,\n",
      "           min_samples_split=2, min_weight_fraction_leaf=0.0,\n",
      "           presort=False, random_state=None, splitter='best') R2 score: 1.00\n",
      "DecisionTreeRegressor(criterion='mse', max_depth=None, max_features=None,\n",
      "           max_leaf_nodes=None, min_impurity_decrease=0.0,\n",
      "           min_impurity_split=None, min_samples_leaf=1,\n",
      "           min_samples_split=2, min_weight_fraction_leaf=0.0,\n",
      "           presort=False, random_state=None, splitter='best') R2 score: 0.85\n"
     ]
    }
   ],
   "source": [
    "#IMPLEMENTAÇÃO\n",
    "pontuacao(dtr_model, X_train, y_train)\n",
    "pontuacao(dtr_model, X_test, y_test)\n"
   ]
  },
  {
   "cell_type": "markdown",
   "metadata": {},
   "source": [
    "### Regressão Ridge"
   ]
  },
  {
   "cell_type": "code",
   "execution_count": 128,
   "metadata": {},
   "outputs": [
    {
     "data": {
      "text/plain": [
       "Ridge(alpha=1.0, copy_X=True, fit_intercept=True, max_iter=None,\n",
       "   normalize=False, random_state=None, solver='auto', tol=0.001)"
      ]
     },
     "execution_count": 128,
     "metadata": {},
     "output_type": "execute_result"
    }
   ],
   "source": [
    "lrr_model = linear_model.Ridge()\n",
    "\n",
    "#IMPLEMENTAÇÃO\n",
    "\n",
    "lrr_model.fit(X_train, y_train.ravel())"
   ]
  },
  {
   "cell_type": "markdown",
   "metadata": {},
   "source": [
    "Obténha a pontuação R2, utilizando a função ```pontuacao``` para os conjuntos de treino e de teste."
   ]
  },
  {
   "cell_type": "code",
   "execution_count": 129,
   "metadata": {},
   "outputs": [
    {
     "name": "stdout",
     "output_type": "stream",
     "text": [
      "Ridge(alpha=1.0, copy_X=True, fit_intercept=True, max_iter=None,\n",
      "   normalize=False, random_state=None, solver='auto', tol=0.001) R2 score: 0.78\n",
      "Ridge(alpha=1.0, copy_X=True, fit_intercept=True, max_iter=None,\n",
      "   normalize=False, random_state=None, solver='auto', tol=0.001) R2 score: 0.82\n"
     ]
    }
   ],
   "source": [
    "#IMPLEMENTAÇÃO\n",
    "pontuacao(lrr_model, X_train, y_train)\n",
    "pontuacao(lrr_model, X_test, y_test)\n"
   ]
  },
  {
   "cell_type": "markdown",
   "metadata": {},
   "source": [
    "**Pergunta:** Nesta análise preliminar, como foi a performance de cada algoritmo? Explique os resultados e detalhe como a característica de cada algoritmo influenciou no resultado.\n",
    "\n",
    "**Resposta:** O teste de árvore de decisão se mostrou um pouco melhor. Porém, a alteração não foi significativa."
   ]
  },
  {
   "cell_type": "markdown",
   "metadata": {},
   "source": [
    "## Validação e Otimização do Modelo\n",
    "\n",
    "Cada algoritmo de modelo pode oferecer a possibilidade de ajustes de seus parâmetros. Tais ajustes podem contribuir para melhorar ou piorar o modelo, portanto esta fase de otimização e validação é importante entender o patamar de partida, com os valores padrões obtidos nos passos anteriores versus as otimizações.\n",
    "\n",
    "É comum que as otimizações não sejam capazes de alterar os patamares padrão.\n",
    "\n",
    "O Scikit Learn oferece uma forma simplificada de testar diversas condições de parâmetros diferentes por meio do ```GridSearchCV```. Após diversos testes é apresentado os parâmetros que obtiveram os melhores resultados."
   ]
  },
  {
   "cell_type": "markdown",
   "metadata": {},
   "source": [
    "### Regulação dos parâmetros dos modelos\n",
    "\n",
    "Analise os parâmetros possíveis de cada algortimo de regressão e crie um dicionário para ser utilizado no ```GridSearchCV```.\n",
    "O dicionário é composto pelo nome do parâmetro como chave. Seu valor será uma lista de valores que se deseja otimizar. Não deixe de revisar a [documentação](http://scikit-learn.org/stable/modules/generated/sklearn.model_selection.GridSearchCV.html)\n",
    "\n",
    "Verfique a pontuação R2 para os conjuntos de dados de treino e de teste, pois nem sempre preditores que se saem bem durante o treinamento terão a mesma performance com os dados de teste."
   ]
  },
  {
   "cell_type": "markdown",
   "metadata": {},
   "source": [
    "### Regulação do Modelo de Regressão Linear\n",
    "\n",
    "Escolha quais atributos incluir na variável ```parameters```para serem otimizados. Essa variável é um dicionário onde cada chave representa uma configuração do modelo, o valor pode ser único ou uma lista, neste caso utilize ```[]``` para incluir múltiplos valores. Como nosso problema é relacionado a regressão, utilize a pontuação R2 em ```scoring``` na configuração do ```GridSearchCV```. "
   ]
  },
  {
   "cell_type": "code",
   "execution_count": 135,
   "metadata": {},
   "outputs": [
    {
     "data": {
      "text/plain": [
       "GridSearchCV(cv=10, error_score='raise',\n",
       "       estimator=LinearRegression(copy_X=True, fit_intercept=True, n_jobs=1, normalize=False),\n",
       "       fit_params=None, iid=True, n_jobs=1,\n",
       "       param_grid={'copy_X': [False, True], 'fit_intercept': [False, True], 'normalize': [False, True], 'n_jobs': range(1, 11)},\n",
       "       pre_dispatch='2*n_jobs', refit=True, return_train_score='warn',\n",
       "       scoring='r2', verbose=0)"
      ]
     },
     "execution_count": 135,
     "metadata": {},
     "output_type": "execute_result"
    }
   ],
   "source": [
    "from sklearn.model_selection import GridSearchCV\n",
    "        \n",
    "parameters = {'copy_X' : [False, True], 'fit_intercept' : [False, True], 'normalize' : [False, True], 'n_jobs' : range(1, 11)}\n",
    "opt_model_lr = GridSearchCV(lr_model, parameters, cv=10, scoring='r2')\n",
    "opt_model_lr.fit(X_train, y_train.ravel())"
   ]
  },
  {
   "cell_type": "markdown",
   "metadata": {},
   "source": [
    "Calcule as pontuações para o melhor estimador com dados de treino."
   ]
  },
  {
   "cell_type": "code",
   "execution_count": 136,
   "metadata": {},
   "outputs": [
    {
     "data": {
      "text/plain": [
       "(0.7764975758054554,\n",
       " LinearRegression(copy_X=False, fit_intercept=True, n_jobs=1, normalize=False))"
      ]
     },
     "execution_count": 136,
     "metadata": {},
     "output_type": "execute_result"
    }
   ],
   "source": [
    "opt_model_lr.score(X_train, y_train.ravel()), opt_model_lr.best_estimator_"
   ]
  },
  {
   "cell_type": "markdown",
   "metadata": {},
   "source": [
    "E também para os dados de testes."
   ]
  },
  {
   "cell_type": "code",
   "execution_count": 137,
   "metadata": {},
   "outputs": [
    {
     "data": {
      "text/plain": [
       "(0.8194952565272896,\n",
       " LinearRegression(copy_X=False, fit_intercept=True, n_jobs=1, normalize=False))"
      ]
     },
     "execution_count": 137,
     "metadata": {},
     "output_type": "execute_result"
    }
   ],
   "source": [
    "opt_model_lr.score(X_test, y_test.ravel()), opt_model_lr.best_estimator_"
   ]
  },
  {
   "cell_type": "markdown",
   "metadata": {},
   "source": [
    "### Regulação do Modelo de Regressão de Árvore de Decisão"
   ]
  },
  {
   "cell_type": "code",
   "execution_count": 152,
   "metadata": {},
   "outputs": [
    {
     "data": {
      "text/plain": [
       "GridSearchCV(cv=None, error_score='raise',\n",
       "       estimator=DecisionTreeRegressor(criterion='mse', max_depth=None, max_features=None,\n",
       "           max_leaf_nodes=None, min_impurity_decrease=0.0,\n",
       "           min_impurity_split=None, min_samples_leaf=1,\n",
       "           min_samples_split=2, min_weight_fraction_leaf=0.0,\n",
       "           presort=False, random_state=None, splitter='best'),\n",
       "       fit_params=None, iid=True, n_jobs=1, param_grid={},\n",
       "       pre_dispatch='2*n_jobs', refit=True, return_train_score='warn',\n",
       "       scoring='r2', verbose=0)"
      ]
     },
     "execution_count": 152,
     "metadata": {},
     "output_type": "execute_result"
    }
   ],
   "source": [
    "parameters = {\n",
    "#'criterion' : ['mse', 'friedman_mse', 'mae'], \n",
    "# 'max_depth' : [None, range(0, 10)], \n",
    "# 'max_features' : ['auto', 'sqrt', 'log2', 'None'], \n",
    "# 'max_leaf_nodes' : [range(0, 7)], \n",
    "# 'min_impurity_decrease' : [np.arange(0.0, 7.0, 1.0)], \n",
    "# 'min_samples_leaf' : [range(1, 7)], \n",
    "# 'min_samples_split' : [range(1, 7)], \n",
    "# 'min_weight_fraction_leaf' : [np.arange(0.0, 7.0, 1.0)], \n",
    "# 'presort' : [False, True], \n",
    "# 'random_state' : [42], \n",
    "# 'splitter' : ['best', 'random'], \n",
    "}\n",
    "opt_model_dtr = GridSearchCV(dtr_model, parameters, scoring='r2')\n",
    "opt_model_dtr.fit(X_train, y_train.ravel())"
   ]
  },
  {
   "cell_type": "markdown",
   "metadata": {},
   "source": [
    "Pontuação dos dados de treino."
   ]
  },
  {
   "cell_type": "code",
   "execution_count": null,
   "metadata": {},
   "outputs": [],
   "source": [
    "#IMPLEMENTAÇÃO\n",
    "\n"
   ]
  },
  {
   "cell_type": "markdown",
   "metadata": {},
   "source": [
    "Pontuação dos dados de teste."
   ]
  },
  {
   "cell_type": "code",
   "execution_count": null,
   "metadata": {},
   "outputs": [],
   "source": [
    "# IMPLEMENTAÇÃO\n",
    "\n"
   ]
  },
  {
   "cell_type": "markdown",
   "metadata": {},
   "source": [
    "### Regulação do Modelo de Regressão Ridge"
   ]
  },
  {
   "cell_type": "code",
   "execution_count": 150,
   "metadata": {},
   "outputs": [
    {
     "ename": "SyntaxError",
     "evalue": "invalid syntax (<ipython-input-150-23fde6f19d4a>, line 2)",
     "output_type": "error",
     "traceback": [
      "\u001b[1;36m  File \u001b[1;32m\"<ipython-input-150-23fde6f19d4a>\"\u001b[1;36m, line \u001b[1;32m2\u001b[0m\n\u001b[1;33m    'normalize' : [False, True], 'random_state' : [None, 42], 'solver', 'tol'}\u001b[0m\n\u001b[1;37m                                                                      ^\u001b[0m\n\u001b[1;31mSyntaxError\u001b[0m\u001b[1;31m:\u001b[0m invalid syntax\n"
     ]
    }
   ],
   "source": [
    "parameters = {'alpha' : [None, range()], 'copy_X' : [False, True], 'fit_intercept' : [False, True],\n",
    "              'max_iter' : [None, range(0, 7)], 'normalize' : [False, True], 'random_state' : [None, 42], 'solver', 'tol'}\n",
    "\n",
    "opt_model_lrr = GridSearchCV(lrr_model, parameters, scoring='r2')\n",
    "opt_model_lrr.fit(X_train, y_train.ravel())"
   ]
  },
  {
   "cell_type": "markdown",
   "metadata": {},
   "source": [
    "Pontuação dos dados de treino."
   ]
  },
  {
   "cell_type": "code",
   "execution_count": null,
   "metadata": {},
   "outputs": [],
   "source": [
    "#IMPLEMENTAÇÃO\n",
    "\n"
   ]
  },
  {
   "cell_type": "markdown",
   "metadata": {},
   "source": [
    "Pontuação dos dados de teste."
   ]
  },
  {
   "cell_type": "code",
   "execution_count": null,
   "metadata": {},
   "outputs": [],
   "source": [
    "#IMPLEMENTAÇÃO\n",
    "\n"
   ]
  },
  {
   "cell_type": "markdown",
   "metadata": {},
   "source": [
    "Sumarize na tabela abaixo os indicadores para cada um dos preditores e suas respectivas pontuações para os conjuntos de dados de treino e de testes"
   ]
  },
  {
   "cell_type": "markdown",
   "metadata": {},
   "source": [
    "|                     | Regressão linear | Regressão árvore de decisão | Regressão ridge |\n",
    "|:---------------------|:------------------:|:-----------------------------:|:-----------------:|\n",
    "| R2 treino |      X           |      X                       |   X              |\n",
    "| R2 teste  |      X            |      X                       |   X              |\n"
   ]
  },
  {
   "cell_type": "markdown",
   "metadata": {},
   "source": [
    "**Pergunta:** Qual dos algoritmos de regressão obteve os melhores resultados? Quais caracaterísticas deste algoritmo podem ajudar a justificar tal resultado?\n",
    "\n",
    "**Resposta:**"
   ]
  },
  {
   "cell_type": "markdown",
   "metadata": {},
   "source": [
    "### Implementação do algoritmo otimizado\n",
    "\n",
    "Configure o classificador selecionado com os parâmetros otimizados obtidos anteriormente."
   ]
  },
  {
   "cell_type": "code",
   "execution_count": null,
   "metadata": {},
   "outputs": [],
   "source": [
    "#IMPLEMENTAÇÃO\n",
    "\n"
   ]
  },
  {
   "cell_type": "markdown",
   "metadata": {},
   "source": [
    "### Teste com exemplos\n",
    "\n",
    "Utilize 3 exemplos criados por você mesmo para obter um valor de venda de veículo. Escolha caracaterísticas que demonstrem como o regressor deveria se comportar. Para tanto, imagine exemplos dos quais você espera um valor baixo, mediano e alto do preço do veículo baseado nos atributos escolhidos"
   ]
  },
  {
   "cell_type": "code",
   "execution_count": null,
   "metadata": {},
   "outputs": [],
   "source": [
    "#Lembre-se que os atributos são os armazenados na lista feature_col_names\n",
    "\n",
    "feature_col_names"
   ]
  },
  {
   "cell_type": "code",
   "execution_count": null,
   "metadata": {},
   "outputs": [],
   "source": [
    "#IMPLEMENTAÇÃO\n",
    "#A entrada de dados deve ser uma matriz do seguinte formato, note que há dois colchetes pois é uma \n",
    "#matriz dentro de outra matriz [[a,b,c,d,e]]\n",
    "\n",
    "test_example_1 = [[]]\n",
    "test_example_2 = [[]]\n",
    "test_example_3 = [[]]\n"
   ]
  },
  {
   "cell_type": "markdown",
   "metadata": {},
   "source": [
    "Caso seu classificador esteja com comportamento muito enviesado (_overfitting_) reveja a escolha dos atributos selecionados e repita a otimização até que os valores de predição deste exemplo estejam coerentes."
   ]
  },
  {
   "cell_type": "markdown",
   "metadata": {},
   "source": [
    "## Conclusões finais\n",
    "\n",
    "Este projeto apresentou de forma simplifcada o __Worflow de Machine Learning__ que pode servir como base para estudos relacionados a classificação ou predição de séries numéricas.\n",
    "\n",
    "A fase de preparação, evidenciada no projeto, é uma das mais importantes da qual se precisa investir um bom tempo para dar os dados organizados e confiáveis, pois é a forma como os classificadores irão aprender com os exemplos e tentarão desvencilhar de efeitos indesejáveis como os vieses.\n",
    "\n",
    "Regressores são um tipo de algoritmo de machine learning que pode ser aplicado em diversas áreas das quais é necessário predizer um número baseado em um conjunto de dados numéricos ou série numérica, logo sua aplicação é bem ampla."
   ]
  },
  {
   "cell_type": "markdown",
   "metadata": {},
   "source": [
    "**Pergunta:** Seu modelo conseguiu prever adequadamente novos dados a partir do treinamento dos dados de teste? O que você faria diferente?\n",
    "\n",
    "**Resposta:**"
   ]
  },
  {
   "cell_type": "markdown",
   "metadata": {},
   "source": [
    "**Pergunta:**: Em que outras áreas você poderia aplicar estes tipos de algoritmos de regressão de aprendizado de máquina? Exemplifique para todos os algoritmos apresentados neste estudo.\n",
    "\n",
    "**Resposta**:"
   ]
  },
  {
   "cell_type": "code",
   "execution_count": null,
   "metadata": {},
   "outputs": [],
   "source": []
  }
 ],
 "metadata": {
  "kernelspec": {
   "display_name": "Python 3",
   "language": "python",
   "name": "python3"
  },
  "language_info": {
   "codemirror_mode": {
    "name": "ipython",
    "version": 3
   },
   "file_extension": ".py",
   "mimetype": "text/x-python",
   "name": "python",
   "nbconvert_exporter": "python",
   "pygments_lexer": "ipython3",
   "version": "3.6.5"
  }
 },
 "nbformat": 4,
 "nbformat_minor": 2
}
